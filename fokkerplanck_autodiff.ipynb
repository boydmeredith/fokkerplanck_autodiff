{
 "cells": [
  {
   "cell_type": "markdown",
   "metadata": {},
   "source": [
    "#Import Libraries"
   ]
  },
  {
   "cell_type": "code",
   "execution_count": 1,
   "metadata": {
    "collapsed": false
   },
   "outputs": [],
   "source": [
    "import theano\n",
    "import theano.tensor as T\n",
    "from theano import pp\n",
    "import numpy as np\n",
    "import matplotlib as mpl\n",
    "import matplotlib.pyplot as plt\n",
    "from scipy.stats import norm\n",
    "from __future__ import division #this is important!!! otherwise, dividing will round\n",
    "from collections import OrderedDict\n",
    "%matplotlib inline"
   ]
  },
  {
   "cell_type": "markdown",
   "metadata": {},
   "source": [
    "#Copy Carlos's code so that it works in Python"
   ]
  },
  {
   "cell_type": "code",
   "execution_count": 2,
   "metadata": {
    "collapsed": true
   },
   "outputs": [],
   "source": [
    "global epsilon\n"
   ]
  },
  {
   "cell_type": "code",
   "execution_count": 3,
   "metadata": {
    "collapsed": true
   },
   "outputs": [],
   "source": [
    "def make_bins(B,dx):\n",
    "    '''\n",
    "    inputs:\n",
    "    -------\n",
    "    - B is the value of the accumulator's sticky bound\n",
    "    - dx is the spacing between all bins, except the first and last \n",
    "    - binN is the number of bins with bin centers > 0\n",
    "    \n",
    "    outputs:\n",
    "    --------\n",
    "    - bin_centers array of bin_centers\n",
    "    - binN the number of bins with positive centers \n",
    "    '''\n",
    "    binN = np.ceil(B/dx)\n",
    "    \n",
    "    bins = np.arange(1,binN+1)*B\n",
    "    bins = dx*bins/B\n",
    "    bins[-1] = B + dx if bins[-1] == B else 2*B - bins[-2]\n",
    "    \n",
    "    bins = np.append(np.append(-bins[np.arange(-1,-1-len(bins),-1)], 0), bins)  \n",
    "    \n",
    "    return bins, binN\n",
    "    "
   ]
  },
  {
   "cell_type": "code",
   "execution_count": 8,
   "metadata": {
    "collapsed": false
   },
   "outputs": [
    {
     "name": "stdout",
     "output_type": "stream",
     "text": [
      "\n"
     ]
    }
   ],
   "source": [
    "def Fmatrix(pd,bin_centers,sigma_sbin,dt):\n",
    "    '''\n",
    "    inputs:\n",
    "    -------\n",
    "    - pd ditionary of parameters expected to contain the following keys\n",
    "        - sigma,\n",
    "        - lam\n",
    "        - c\n",
    "    - bins an array of bin centers created by make_bins\n",
    "    - sigma_sbin\n",
    "    outputs:\n",
    "    --------\n",
    "    - F square Markov matrix of transition probabilities\n",
    "    '''\n",
    "    sigma = pd['sigma']\n",
    "    lam   = pd['lam']\n",
    "    c     = pd['c']\n",
    "    \n",
    "    # in the julia implementation, F had to be multiplied by 0.0*sigma, \n",
    "    # we'll see if we need to do that here, but will start without doing that\n",
    "    F = np.zeros([len(bin_centers),len(bin_centers)]) \n",
    "    \n",
    "    # is this a good idea???\n",
    "    # doesn't the fitter need to be able to chose lam = 0\n",
    "    mus      = (bin_centers + c/lam)*np.exp(lam*dt) - c/lam \n",
    "    sbinsize = 0.1*np.sqrt(sigma_sbin**2 * dt)\n",
    "    swidth   = 4*np.sqrt((sigma_sbin/dx)**2*dt)\n",
    "    sbins    = np.arange(-swidth,swidth+epsilon, sbinsize)\n",
    "    ps       = np.exp(-sbins**2 / (2*sigma**2*dt)) / np.sqrt(2*sigma**2*dt)\n",
    "    ps       = ps/np.sum(ps);\n",
    "\n",
    "    base_sbins = sbins;\n",
    "    print len(base_sbins)\n",
    "    for j in range(len(bin_centers)):\n",
    "        sbins = np.array(range(len(base_sbins)),dtype=float)*sbinsize #collect(0:(length(base_sbins)-1))*sbinsize\n",
    "\n",
    "        sbins = sbins + mus[j] - swidth\n",
    "        #print sbins\n",
    "        for k in range(len(sbins)):\n",
    "            if sbins[k] < (bin_centers[0] + bin_centers[1])/2 :\n",
    "                F[0,j] += ps[k]\n",
    "            elif (bin_centers[-1]+bin_centers[-2])/2 <= sbins[k] :\n",
    "                F[-1,j] += ps[k]\n",
    "            else:\n",
    "                # carlos was using a .<= in the following line,\n",
    "                # I'm not sure what's special about that!\n",
    "                bot = np.where(bin_centers <= sbins[k])[0][-1]\n",
    "                top = bot+1\n",
    "                #print 'bottom:', bot, 'top:', top\n",
    "                F[bot,j] = F[bot,j] + ps[k]*(bin_centers[top] - sbins[k])/(bin_centers[top] - bin_centers[bot])\n",
    "                F[top,j] = F[top,j] + ps[k]*(sbins[k] - bin_centers[bot])/(bin_centers[top] - bin_centers[bot])\n",
    "\n",
    "    F[:,0] = 0; F[:,-1] = 0; F[0,0] = 1; F[-1,-1] = 1;\n",
    "    return F"
   ]
  },
  {
   "cell_type": "code",
   "execution_count": 5,
   "metadata": {
    "collapsed": false
   },
   "outputs": [],
   "source": [
    "def probRight(pd,dt,dx,c):\n",
    "    '''\n",
    "    returns probability that the agent chose right\n",
    "    '''\n",
    "    # these are all globals in carlos's code\n",
    "    #dt = .02; \n",
    "    c_trace = []; bin_centers = []; binN = []; a_trace = [];\n",
    "    Nsteps = len(c)\n",
    "    sigma_sbin = pd['sigma_a']; \n",
    "    sigma_a    = pd['sigma_a']*np.sqrt(dt)/dx\n",
    "    sigma_s    = pd['sigma_s']\n",
    "    sigma_i    = pd['sigma_i']\n",
    "    bias       = pd['bias']\n",
    "    B          = pd['B']\n",
    "    lam        = pd['lam']\n",
    "    phi        = pd['phi']\n",
    "    tau_phi    = pd['tau_phi']\n",
    "    lapse      = pd['lapse']\n",
    "    \n",
    "   \n",
    "    bin_centers, binN = make_bins(B,dx)\n",
    "    \n",
    "    binBias = bias // dx + binN+1;\n",
    "    \n",
    "    a_trace = np.zeros([len(bin_centers), Nsteps]);  \n",
    "    c_trace = np.zeros(Nsteps)\n",
    "\n",
    "    a       = np.zeros(len(bin_centers)) \n",
    "    a[binN] = 1; # this line exists in the outer level of carlos's code, but seems to be immediately written over??\n",
    "    a[binN] = 1-2*lapse\n",
    "    a[0]    = lapse\n",
    "    a[-1]   = lapse\n",
    "    c_eff   = 1\n",
    "    \n",
    "    Fi = Fmatrix({'sigma':sigma_i/dx, 'lam':lam, 'c':0}, bin_centers, sigma_sbin, dt)\n",
    "    a = np.dot(Fi, a) \n",
    "    a_trace[:,0] = a\n",
    "    F0  = Fmatrix({'sigma':sigma_a, 'lam':lam, 'c':0}, bin_centers, sigma_sbin, dt)\n",
    "    \n",
    "    for step in range(int(Nsteps)-1):\n",
    "        c_eff = 1 + (c_eff - 1)*np.exp(-dt/tau_phi)\n",
    "        c_trace[step] = c_eff\n",
    "        if c[step]==0:\n",
    "            a = np.dot(F0,a) \n",
    "        else: \n",
    "            F = Fmatrix({'sigma':sigma_a, 'lam':lam, 'c':c_eff/dt},bin_centers, sigma_sbin, dt) \n",
    "            a = np.dot(F,a) \n",
    "            c_eff = c_eff*phi\n",
    "        a_trace[:,step+1] = a\n",
    "\n",
    "    pright = np.sum(a[binBias:]) + a[binBias-1]*0.5*(dx/2 - (bias - bin_centers[binBias-1]))/(dx/2)\n",
    "    return pright, a_trace"
   ]
  },
  {
   "cell_type": "code",
   "execution_count": 6,
   "metadata": {
    "collapsed": false
   },
   "outputs": [],
   "source": [
    "epsilon = 10e-10; dx =.25; dt = .02; Nsteps = np.ceil(1/dt); \n",
    "pd = {'sigma':1, 'lam':-.5, 'c':1, 'sigma_a':1, 'sigma_s':0, 'sigma_i':0.5, \n",
    "      'bias':0, 'B': 4,'lapse':0.05, 'tau_phi':0.2, 'phi':0.3, }\n",
    "sigma_sbin = pd['sigma_a']\n",
    "c = np.zeros(Nsteps); c[[np.ceil(0.08/dt), np.ceil(0.4/dt)]] = 1;"
   ]
  },
  {
   "cell_type": "markdown",
   "metadata": {},
   "source": [
    "#Try something simple"
   ]
  },
  {
   "cell_type": "raw",
   "metadata": {},
   "source": [
    "T.grad returns something a little complicated to look at"
   ]
  },
  {
   "cell_type": "code",
   "execution_count": 10,
   "metadata": {
    "collapsed": false
   },
   "outputs": [
    {
     "data": {
      "text/plain": [
       "'((fill((x ** TensorConstant{2}), TensorConstant{1.0}) * TensorConstant{2}) * (x ** (TensorConstant{2} - TensorConstant{1})))'"
      ]
     },
     "execution_count": 10,
     "metadata": {},
     "output_type": "execute_result"
    }
   ],
   "source": [
    "x = T.dscalar('x')\n",
    "y = x ** 2\n",
    "gy = T.grad(y,x)\n",
    "pp(gy)"
   ]
  },
  {
   "cell_type": "raw",
   "metadata": {},
   "source": [
    "but, the optimizer simplifies things!"
   ]
  },
  {
   "cell_type": "code",
   "execution_count": 26,
   "metadata": {
    "collapsed": false
   },
   "outputs": [
    {
     "data": {
      "text/plain": [
       "'(TensorConstant{2.0} * x)'"
      ]
     },
     "execution_count": 26,
     "metadata": {},
     "output_type": "execute_result"
    }
   ],
   "source": [
    "f = theano.function([x], gy)\n",
    "pp(f.maker.fgraph.outputs[0])"
   ]
  },
  {
   "cell_type": "code",
   "execution_count": 28,
   "metadata": {
    "collapsed": false
   },
   "outputs": [
    {
     "data": {
      "text/plain": [
       "[array(2.0), array(10.0), array(20.0), array(22.0)]"
      ]
     },
     "execution_count": 28,
     "metadata": {},
     "output_type": "execute_result"
    }
   ],
   "source": [
    "[f(a) for a in [1, 5, 10, 11]]"
   ]
  },
  {
   "cell_type": "markdown",
   "metadata": {},
   "source": [
    "## Okay, let's try something a bit more complicated"
   ]
  },
  {
   "cell_type": "code",
   "execution_count": 82,
   "metadata": {
    "collapsed": false
   },
   "outputs": [],
   "source": [
    "x = T.dscalar('x')\n",
    "s = (1 / (1 + T.exp(-x)))\n",
    "gs = T.grad(s, x)\n",
    "dlogistic = theano.function([x], gs)\n"
   ]
  },
  {
   "cell_type": "markdown",
   "metadata": {},
   "source": [
    "here's the function"
   ]
  },
  {
   "cell_type": "code",
   "execution_count": 52,
   "metadata": {
    "collapsed": false
   },
   "outputs": [
    {
     "data": {
      "text/plain": [
       "[<matplotlib.lines.Line2D at 0x1093e5c10>]"
      ]
     },
     "execution_count": 52,
     "metadata": {},
     "output_type": "execute_result"
    },
    {
     "data": {
      "image/png": "[encoded data removed]",
      "text/plain": [
       "<matplotlib.figure.Figure at 0x1091ea1d0>"
      ]
     },
     "metadata": {},
     "output_type": "display_data"
    }
   ],
   "source": [
    "x = np.arange(-10,10,.1)\n",
    "y = [1/(1+np.exp(-this_x)) for this_x in x]\n",
    "plt.plot(x,y)"
   ]
  },
  {
   "cell_type": "markdown",
   "metadata": {},
   "source": [
    "and here's its gradient"
   ]
  },
  {
   "cell_type": "code",
   "execution_count": 86,
   "metadata": {
    "collapsed": false
   },
   "outputs": [
    {
     "data": {
      "text/plain": [
       "[<matplotlib.lines.Line2D at 0x109b17b90>]"
      ]
     },
     "execution_count": 86,
     "metadata": {},
     "output_type": "execute_result"
    },
    {
     "data": {
      "image/png": "[encoded data removed]",
      "text/plain": [
       "<matplotlib.figure.Figure at 0x109d2ffd0>"
      ]
     },
     "metadata": {},
     "output_type": "display_data"
    }
   ],
   "source": [
    "x_vals = np.arange(-100,100)\n",
    "dsdx = [dlogistic(a).sum() for a in x_vals]\n",
    "plt.plot(x_vals, dsdx)"
   ]
  },
  {
   "cell_type": "markdown",
   "metadata": {},
   "source": [
    "## even more so?"
   ]
  },
  {
   "cell_type": "markdown",
   "metadata": {},
   "source": [
    "instead of dscalar, we'll use dmatrix--the matrix type for doubles"
   ]
  },
  {
   "cell_type": "code",
   "execution_count": 196,
   "metadata": {
    "collapsed": false
   },
   "outputs": [],
   "source": [
    "x = T.dmatrix('x')\n",
    "s = T.sum(1 / (1 + T.exp(-x)))\n",
    "gs = T.grad(s, x)\n",
    "dlogistic = theano.function([x], gs)"
   ]
  },
  {
   "cell_type": "code",
   "execution_count": 211,
   "metadata": {
    "collapsed": false
   },
   "outputs": [
    {
     "data": {
      "text/plain": [
       "array([[  1.96611933e-01,   6.64805667e-03],\n",
       "       [  4.53958077e-05,   4.53958077e-05],\n",
       "       [  2.50000000e-01,   3.72007598e-44]])"
      ]
     },
     "execution_count": 211,
     "metadata": {},
     "output_type": "execute_result"
    }
   ],
   "source": [
    "dlogistic([[1,5], [-10, -10], [0,100]])"
   ]
  },
  {
   "cell_type": "code",
   "execution_count": 222,
   "metadata": {
    "collapsed": false
   },
   "outputs": [],
   "source": [
    "x0 = np.arange(100,-101,-1)\n",
    "x1 = np.arange(-100,101)\n",
    "x_vals = np.array([[a,b] for a in x0 for b in x1])\n",
    "dsdx = dlogistic(x_vals)"
   ]
  },
  {
   "cell_type": "markdown",
   "metadata": {},
   "source": [
    "derivative w.r.t x0"
   ]
  },
  {
   "cell_type": "code",
   "execution_count": 233,
   "metadata": {
    "collapsed": false
   },
   "outputs": [
    {
     "data": {
      "text/plain": [
       "[<matplotlib.lines.Line2D at 0x10bb48e50>]"
      ]
     },
     "execution_count": 233,
     "metadata": {},
     "output_type": "execute_result"
    },
    {
     "data": {
      "image/png": "[encoded data removed]",
      "text/plain": [
       "<matplotlib.figure.Figure at 0x10b056dd0>"
      ]
     },
     "metadata": {},
     "output_type": "display_data"
    }
   ],
   "source": [
    "plt.plot(x_vals[:,0],dsdx[:,0])"
   ]
  },
  {
   "cell_type": "markdown",
   "metadata": {},
   "source": [
    "derivative w.r.t x1"
   ]
  },
  {
   "cell_type": "code",
   "execution_count": 235,
   "metadata": {
    "collapsed": false
   },
   "outputs": [
    {
     "data": {
      "text/plain": [
       "[<matplotlib.lines.Line2D at 0x10b0c34d0>]"
      ]
     },
     "execution_count": 235,
     "metadata": {},
     "output_type": "execute_result"
    },
    {
     "data": {
      "image/png": "[encoded data removed]",
      "text/plain": [
       "<matplotlib.figure.Figure at 0x10bc4e150>"
      ]
     },
     "metadata": {},
     "output_type": "display_data"
    }
   ],
   "source": [
    "plt.plot(x_vals[:,1],dsdx[:,1])"
   ]
  },
  {
   "cell_type": "markdown",
   "metadata": {},
   "source": [
    "#Close to Fokker-Planck"
   ]
  },
  {
   "cell_type": "markdown",
   "metadata": {},
   "source": [
    "### First, I will play with numerical methods"
   ]
  },
  {
   "cell_type": "code",
   "execution_count": 44,
   "metadata": {
    "collapsed": true
   },
   "outputs": [],
   "source": [
    "stepsize=.1\n",
    "eta = 1 #should be a random draw from a gaussian mu = 1 and sigma = sensory noise\n",
    "timepoints = np.arange(0,10,stepsize)\n",
    "lam = 0.1\n",
    "diffusion_noise = 0\n",
    "dw = 0\n",
    "L = np.zeros(np.shape(timepoints))\n",
    "R = np.zeros(np.shape(timepoints))\n",
    "a = np.zeros(np.shape(timepoints))\n",
    "c = np.zeros(np.shape(timepoints))\n",
    "C = np.ones(np.shape(timepoints))\n",
    "L[[1, 5, 15, 70, 75]] = 1 # should generate these from a poisson\n",
    "R[[20, 25, 30, 50, 99]] = 1"
   ]
  },
  {
   "cell_type": "code",
   "execution_count": 37,
   "metadata": {
    "collapsed": false
   },
   "outputs": [],
   "source": [
    "def da(t,lam,a,c,stepsize,sigma,dw):\n",
    "    # note: should probably just calculate click difference elsewhere \n",
    "    # and then put the noise in here, if we want to fit that parameter\n",
    "    return (lam*a[t-1]+c[t])*stepsize + sigma*dw\n",
    "def get_c(t,R,L,eta,C):\n",
    "    return eta*C[t]*(R[t]-L[t])\n",
    "def mu_ak(t,lam,a,stepsize,c):\n",
    "    return np.exp(l*stepsize)*(a(t-1)+c[t]/lam)-c[t]/lam\n",
    "\n",
    "        "
   ]
  },
  {
   "cell_type": "code",
   "execution_count": 38,
   "metadata": {
    "collapsed": false
   },
   "outputs": [
    {
     "data": {
      "text/plain": [
       "[<matplotlib.lines.Line2D at 0x109c41850>]"
      ]
     },
     "execution_count": 38,
     "metadata": {},
     "output_type": "execute_result"
    },
    {
     "data": {
      "image/png": "[encoded data removed]",
      "text/plain": [
       "<matplotlib.figure.Figure at 0x109c41c50>"
      ]
     },
     "metadata": {},
     "output_type": "display_data"
    }
   ],
   "source": [
    "\n",
    "for t in np.arange(1,len(timepoints)):\n",
    "    c[t] = get_c(t,R,L,eta,C)\n",
    "    a[t] = a[t-1] + da(t,lam,a,c,stepsize,diffusion_noise,dw)\n",
    "plt.plot(timepoints,a)\n",
    "plt.plot([0, 10],[0, 0])\n",
    "\n",
    "    "
   ]
  },
  {
   "cell_type": "code",
   "execution_count": 39,
   "metadata": {
    "collapsed": false
   },
   "outputs": [
    {
     "data": {
      "text/plain": [
       "array([1, 2, 3, 4, 5, 6, 7, 8, 9])"
      ]
     },
     "execution_count": 39,
     "metadata": {},
     "output_type": "execute_result"
    }
   ],
   "source": [
    "np.arange(1,10)\n"
   ]
  },
  {
   "cell_type": "code",
   "execution_count": 45,
   "metadata": {
    "collapsed": false
   },
   "outputs": [
    {
     "data": {
      "text/plain": [
       "0.0"
      ]
     },
     "execution_count": 45,
     "metadata": {},
     "output_type": "execute_result"
    }
   ],
   "source": [
    "#np.exp(lam*stepsize)*(a+c/lam)-c/lam\n",
    "np.exp(lam*stepsize) \n",
    "c[1]/lam#*(c[1]/lam)#-c[1]/lam"
   ]
  },
  {
   "cell_type": "code",
   "execution_count": 47,
   "metadata": {
    "collapsed": false
   },
   "outputs": [
    {
     "data": {
      "text/plain": [
       "[<matplotlib.lines.Line2D at 0x1085feb90>]"
      ]
     },
     "execution_count": 47,
     "metadata": {},
     "output_type": "execute_result"
    },
    {
     "data": {
      "image/png": "[encoded data removed]",
      "text/plain": [
       "<matplotlib.figure.Figure at 0x108507690>"
      ]
     },
     "metadata": {},
     "output_type": "display_data"
    }
   ],
   "source": [
    "def a_update(a, lam, stepsize, c):\n",
    "    return np.exp(lam*stepsize)*(a+c/lam)-c/lam\n",
    "\n",
    "for t in np.arange(1,len(timepoints)):\n",
    "    c[t] = get_c(t,R,L,eta,C)\n",
    "    a[t] = a_update(a[t-1],lam,stepsize,c[t])\n",
    "    \n",
    "plt.plot(timepoints,a)\n",
    "plt.plot(hold=True)\n",
    "plt.plot([0, 10],[0, 0])\n",
    "\n",
    "#don't want to use this form of the equation, because it is undefined for lambda = 0"
   ]
  },
  {
   "cell_type": "markdown",
   "metadata": {},
   "source": [
    "${\\sum_{k=1}^N \\int P(a_k,a_{k-1}|d,\\theta) \\frac{d}{d\\theta}lnP(a_k|a_{k-1},\\theta)da_k da_{k-1}}$"
   ]
  },
  {
   "cell_type": "markdown",
   "metadata": {},
   "source": [
    "#Discretization routine"
   ]
  },
  {
   "cell_type": "code",
   "execution_count": 279,
   "metadata": {
    "collapsed": false
   },
   "outputs": [
    {
     "data": {
      "image/png": "[encoded data removed]",
      "text/plain": [
       "<matplotlib.figure.Figure at 0x110db5550>"
      ]
     },
     "metadata": {},
     "output_type": "display_data"
    }
   ],
   "source": [
    "x = np.linspace(norm.ppf(0.001),\n",
    "                 norm.ppf(0.999), 100)\n",
    "y = norm.pdf(x)\n",
    "r = norm.rvs(size=1000)\n",
    "fig, ax = plt.subplots(1, 1)\n",
    "mean, var, skew, kurt = norm.stats(moments='mvsk')\n",
    "x = np.linspace(norm.ppf(0.001),\n",
    "                 norm.ppf(0.999), 100)\n",
    "\n",
    "ax.plot(x, y,'r-', lw=5, alpha=0.6, label='norm pdf')\n",
    "_, bins, _ = ax.hist(r, normed=True, histtype='stepfilled', alpha=0.2)\n"
   ]
  },
  {
   "cell_type": "code",
   "execution_count": null,
   "metadata": {
    "collapsed": true
   },
   "outputs": [],
   "source": [
    "def jjdiscretize(y,bincenters):\n",
    "    F1"
   ]
  },
  {
   "cell_type": "code",
   "execution_count": 361,
   "metadata": {
    "collapsed": false
   },
   "outputs": [
    {
     "data": {
      "text/plain": [
       "'(((-((fill(((TensorConstant{1} / ((s * TensorConstant{3.14159265359}) ** TensorConstant{0.5})) * exp((-(x ** TensorConstant{2})))), TensorConstant{1.0}) * (TensorConstant{1} / ((s * TensorConstant{3.14159265359}) ** TensorConstant{0.5}))) * exp((-(x ** TensorConstant{2}))))) * TensorConstant{2}) * (x ** (TensorConstant{2} - TensorConstant{1})))'"
      ]
     },
     "execution_count": 361,
     "metadata": {},
     "output_type": "execute_result"
    }
   ],
   "source": [
    "x = T.dscalar('x')\n",
    "s = T.dscalar('s')\n",
    "y = 1/(s*np.pi)**.5*T.exp(-x ** 2)\n",
    "gy = T.grad(y,x)\n",
    "pp(gy)"
   ]
  },
  {
   "cell_type": "code",
   "execution_count": 363,
   "metadata": {
    "collapsed": false
   },
   "outputs": [
    {
     "data": {
      "text/plain": [
       "'Elemwise{Composite{((i0 * exp((-sqr(i1))) * i1) / sqrt((i2 * i3)))}}(TensorConstant{-2.0}, x, TensorConstant{3.14159265359}, s)'"
      ]
     },
     "execution_count": 363,
     "metadata": {},
     "output_type": "execute_result"
    }
   ],
   "source": [
    "f = theano.function([x,s], gy)\n",
    "pp(f.maker.fgraph.outputs[0])"
   ]
  },
  {
   "cell_type": "code",
   "execution_count": 366,
   "metadata": {
    "collapsed": false
   },
   "outputs": [
    {
     "data": {
      "text/plain": [
       "array(-3.0561685050743106e-173)"
      ]
     },
     "execution_count": 366,
     "metadata": {},
     "output_type": "execute_result"
    }
   ],
   "source": [
    "f(20,2)\n"
   ]
  },
  {
   "cell_type": "markdown",
   "metadata": {},
   "source": [
    "#Probably smarter to try without descretizing first"
   ]
  },
  {
   "cell_type": "markdown",
   "metadata": {},
   "source": [
    "questions:\n",
    "    - do we need to figure out how to set bounds on our variables?"
   ]
  },
  {
   "cell_type": "code",
   "execution_count": 194,
   "metadata": {
    "collapsed": true
   },
   "outputs": [],
   "source": [
    "timepoints = np.arange(0,10,.5)\n",
    "p_a = np.zeros(np.shape(timepoints))\n",
    "t_final = timepoints[-1]"
   ]
  },
  {
   "cell_type": "code",
   "execution_count": 195,
   "metadata": {
    "collapsed": false
   },
   "outputs": [],
   "source": [
    "sigma_i = T.dscalar('sigma_i')\n",
    "a = T.dscalar('a')\n",
    "pa0 = T.exp(-a**2/(2*sigma_i))\n",
    "gpa0 = T.grad(pa0,sigma_i)"
   ]
  },
  {
   "cell_type": "code",
   "execution_count": 196,
   "metadata": {
    "collapsed": false
   },
   "outputs": [
    {
     "data": {
      "text/plain": [
       "'Elemwise{Composite{((i0 * exp(((i1 * sqr(i2)) / i3)) * sqr(i2)) / sqr(i3))}}(TensorConstant{0.5}, TensorConstant{-0.5}, a, sigma_i)'"
      ]
     },
     "execution_count": 196,
     "metadata": {},
     "output_type": "execute_result"
    }
   ],
   "source": [
    "f = theano.function([a,sigma_i], gpa0)\n",
    "pp(f.maker.fgraph.outputs[0])"
   ]
  },
  {
   "cell_type": "code",
   "execution_count": 197,
   "metadata": {
    "collapsed": false
   },
   "outputs": [
    {
     "data": {
      "text/plain": [
       "[<matplotlib.lines.Line2D at 0x10cb2be10>]"
      ]
     },
     "execution_count": 197,
     "metadata": {},
     "output_type": "execute_result"
    },
    {
     "data": {
      "image/png": "[encoded data removed]",
      "text/plain": [
       "<matplotlib.figure.Figure at 0x10c2059d0>"
      ]
     },
     "metadata": {},
     "output_type": "display_data"
    }
   ],
   "source": [
    "plt.subplot(121)\n",
    "adis = 1\n",
    "sigma_i_dis = np.arange(0,10,.5)\n",
    "plt.plot(sigma_i_dis,np.exp(-adis**2/(2*sigma_i_dis)))\n",
    "\n",
    "plt.subplot(122)\n",
    "\n",
    "y = np.array([f(adis,s).sum() for s in sigma_i_dis])\n",
    "plt.plot(sigma_i_dis,y)"
   ]
  },
  {
   "cell_type": "code",
   "execution_count": 2,
   "metadata": {
    "collapsed": false
   },
   "outputs": [
    {
     "data": {
      "text/plain": [
       "'\\nLLsigi = T.sum(-.5*T.log(2*np.pi*sigma_i**2)) - T.sum(-(examp-mu)**2)/(2*sigma_i**2)) #need to look into T.elemwise\\ngLLsigi = T.grad(LLsigi,sigma_i)\\nfLLsigi = theano.function([examp,sigma_i], LLsigi)\\nfgLLsigi = theano.function([examp,sigma_i], gLLsigi)\\npp(fLLsigi.maker.fgraph.outputs[0])\\n'"
      ]
     },
     "execution_count": 2,
     "metadata": {},
     "output_type": "execute_result"
    }
   ],
   "source": [
    "sigma_i = T.dscalar('sigma_i')\n",
    "mu = 0\n",
    "examp = T.dvector('examp')\n",
    "ex = T.dscalar('ex')\n",
    "a = T.dscalar('a')\n",
    "\n",
    "mynorm = ((2*np.pi*sigma_i**2)**-.5)*T.exp(-(ex-mu)**2/(2*sigma_i**2))\n",
    "fnorm = theano.function([ex,sigma_i], mynorm)\n",
    "L = T.prod(((2*np.pi*sigma_i**2)**-.5)*T.exp(-(examp-mu)**2/(2*sigma_i**2)))\n",
    "fL = theano.function([examp,sigma_i], L)\n",
    "LL = T.sum(T.log((((2*np.pi*sigma_i**2)**-.5)*T.exp(-(examp-mu)**2/(2*sigma_i**2)))))\n",
    "fLL = theano.function([examp,sigma_i], LL)\n",
    "LL2 = T.sum(-.5*T.log((((2*np.pi*sigma_i**2)))) -(examp-mu)**2/(2*sigma_i**2))\n",
    "fLL2 = theano.function([examp,sigma_i], LL2)\n",
    "NLL = -T.sum(-.5*T.log((((2*np.pi*sigma_i**2)))) -(examp-mu)**2/(2*sigma_i**2))\n",
    "fNLL = theano.function([examp,sigma_i], NLL)\n",
    "\n",
    "'''\n",
    "LLsigi = T.sum(-.5*T.log(2*np.pi*sigma_i**2)) - T.sum(-(examp-mu)**2)/(2*sigma_i**2)) #need to look into T.elemwise\n",
    "gLLsigi = T.grad(LLsigi,sigma_i)\n",
    "fLLsigi = theano.function([examp,sigma_i], LLsigi)\n",
    "fgLLsigi = theano.function([examp,sigma_i], gLLsigi)\n",
    "pp(fLLsigi.maker.fgraph.outputs[0])\n",
    "'''\n"
   ]
  },
  {
   "cell_type": "code",
   "execution_count": 3,
   "metadata": {
    "collapsed": false
   },
   "outputs": [
    {
     "data": {
      "text/plain": [
       "[<matplotlib.lines.Line2D at 0x108deaf50>]"
      ]
     },
     "execution_count": 3,
     "metadata": {},
     "output_type": "execute_result"
    },
    {
     "data": {
      "image/png": "[encoded data removed]",
      "text/plain": [
       "<matplotlib.figure.Figure at 0x104773550>"
      ]
     },
     "metadata": {},
     "output_type": "display_data"
    }
   ],
   "source": [
    "#y = np.array([fnorm(e,5).sum() for e in examples])\n",
    "#plt.scatter(examples,y)\n",
    "sigis = np.arange(2,7,.1)\n",
    "plt.subplot(131)\n",
    "yL = np.array([fL(examples,s) for s in sigis])\n",
    "plt.plot(sigis,yL)\n",
    "plt.subplot(132)\n",
    "yLL = np.array([fLL(examples,s) for s in sigis])\n",
    "plt.plot(sigis,yLL)\n",
    "plt.subplot(133)\n",
    "yLL2 = np.array([fNLL(examples,s) for s in sigis])\n",
    "plt.plot(sigis,yLL2)"
   ]
  },
  {
   "cell_type": "code",
   "execution_count": 56,
   "metadata": {
    "collapsed": false
   },
   "outputs": [
    {
     "name": "stdout",
     "output_type": "stream",
     "text": [
      "10.0\n"
     ]
    }
   ],
   "source": [
    "\n",
    "\n",
    "s = theano.shared(np.array(10, dtype=theano.config.floatX))\n",
    "print s.get_value()\n",
    "NLL = -T.sum(-.5*T.log((((2*np.pi*sigma_i**2)))) -(examp-mu)**2/(2*sigma_i**2))\n",
    "\n",
    "NLLs = -T.sum(-.5*T.log((((2*np.pi*s**2)))) -(examp-mu)**2/(2*s**2))\n",
    "\n",
    "fNLL = theano.function([examp,sigma_i], NLL)\n",
    "fNLLs = theano.function([examp], NLLs)\n",
    "T.grad(NLLs,s)\n",
    "\n",
    "#T.grad(NLLs,s)\n",
    "\n",
    "def grad_desc(cost=NLLs,param=s ,momentum = .5,learning_rate = .5):\n",
    "    updates=[]\n",
    "    param_update = theano.shared(param.get_value())\n",
    "    updates.append((param, param - learning_rate*param_update))\n",
    "    updates.append((param_update, momentum*param_update + (1. - momentum) * T.grad(cost, param)))\n",
    "    return updates\n",
    "\n",
    "train = theano.function([examp], NLLs, updates=grad_desc())\n",
    "#updates=grad_desc())\n",
    "#updates = grad_desc()"
   ]
  },
  {
   "cell_type": "code",
   "execution_count": 103,
   "metadata": {
    "collapsed": false
   },
   "outputs": [
    {
     "data": {
      "image/png": "[encoded data removed]",
      "text/plain": [
       "<matplotlib.figure.Figure at 0x109ee3590>"
      ]
     },
     "metadata": {},
     "output_type": "display_data"
    }
   ],
   "source": [
    "gNLLs = T.grad(NLLs,s)\n",
    "fNLLs = theano.function([examp],NLLs)\n",
    "fgNLLs = theano.function([examp],gNLLs)\n",
    "X = np.arange(4,6,.1)\n",
    "\n",
    "for _ in range(10):\n",
    "    examples = np.random.normal(loc=0, scale=5.0, size=1000) #scale is the standard deviation\n",
    "    vals = []\n",
    "    g_vals = []\n",
    "    for x in X:\n",
    "        s.set_value(x)\n",
    "        vals.append(fNLLs(examples))\n",
    "        g_vals.append(fgNLLs(examples))\n",
    "    plt.plot(X,g_vals)\n",
    "    plt.plot(hold=True)\n",
    "    plt.plot(X,np.zeros(np.shape(X)))\n"
   ]
  },
  {
   "cell_type": "code",
   "execution_count": 405,
   "metadata": {
    "collapsed": false
   },
   "outputs": [
    {
     "ename": "NameError",
     "evalue": "name 'MLP' is not defined",
     "output_type": "error",
     "traceback": [
      "\u001b[0;31m---------------------------------------------------------------------------\u001b[0m",
      "\u001b[0;31mNameError\u001b[0m                                 Traceback (most recent call last)",
      "\u001b[0;32m<ipython-input-405-41a0b3103d8c>\u001b[0m in \u001b[0;36m<module>\u001b[0;34m()\u001b[0m\n\u001b[1;32m     16\u001b[0m     \u001b[0mactivations\u001b[0m\u001b[0;34m.\u001b[0m\u001b[0mappend\u001b[0m\u001b[0;34m(\u001b[0m\u001b[0mT\u001b[0m\u001b[0;34m.\u001b[0m\u001b[0mnnet\u001b[0m\u001b[0;34m.\u001b[0m\u001b[0msigmoid\u001b[0m\u001b[0;34m)\u001b[0m\u001b[0;34m\u001b[0m\u001b[0m\n\u001b[1;32m     17\u001b[0m \u001b[0;31m# Create an instance of the MLP class\u001b[0m\u001b[0;34m\u001b[0m\u001b[0;34m\u001b[0m\u001b[0m\n\u001b[0;32m---> 18\u001b[0;31m \u001b[0mmlp\u001b[0m \u001b[0;34m=\u001b[0m \u001b[0mMLP\u001b[0m\u001b[0;34m(\u001b[0m\u001b[0mW_init\u001b[0m\u001b[0;34m,\u001b[0m \u001b[0mb_init\u001b[0m\u001b[0;34m,\u001b[0m \u001b[0mactivations\u001b[0m\u001b[0;34m)\u001b[0m\u001b[0;34m\u001b[0m\u001b[0m\n\u001b[0m",
      "\u001b[0;31mNameError\u001b[0m: name 'MLP' is not defined"
     ]
    }
   ],
   "source": [
    "layer_sizes = [X.shape[0], X.shape[0]*2, 1]\n",
    "# Set initial parameter values\n",
    "W_init = []\n",
    "b_init = []\n",
    "activations = []\n",
    "for n_input, n_output in zip(layer_sizes[:-1], layer_sizes[1:]):\n",
    "    # Getting the correct initialization matters a lot for non-toy problems.\n",
    "    # However, here we can just use the following initialization with success:\n",
    "    # Normally distribute initial weights\n",
    "    W_init.append(np.random.randn(n_output, n_input))\n",
    "    # Set initial biases to 1\n",
    "    b_init.append(np.ones(n_output))\n",
    "    # We'll use sigmoid activation for all layers\n",
    "    # Note that this doesn't make a ton of sense when using squared distance\n",
    "    # because the sigmoid function is bounded on [0, 1].\n",
    "    activations.append(T.nnet.sigmoid)\n",
    "# Create an instance of the MLP class\n",
    "mlp = MLP(W_init, b_init, activations)"
   ]
  },
  {
   "cell_type": "markdown",
   "metadata": {},
   "source": [
    "------"
   ]
  },
  {
   "cell_type": "code",
   "execution_count": 274,
   "metadata": {
    "collapsed": false
   },
   "outputs": [
    {
     "name": "stdout",
     "output_type": "stream",
     "text": [
      "Initial model:\n",
      "[ 0.45164588  1.18856232 -0.92563873 -0.80879455  0.04894855 -1.47913839\n",
      " -1.11994857 -0.52380558  0.49745601  0.58708772  0.2446972   0.18714491\n",
      " -1.64172929 -0.13297112 -0.97159792  1.50947668 -1.05265836  0.01239463\n",
      " -0.28245709 -0.75697939  0.84056295  0.22199855 -0.11868983  1.25965298\n",
      "  1.87679289  0.69519864  0.86535598  0.44894683  1.29065809  0.76532764\n",
      " -1.54788764  0.43768358 -1.03371643 -1.51791771  1.16231199 -1.3847705\n",
      "  0.61734257  1.09071116  0.73673701  1.39019807 -0.16697507 -0.64172992\n",
      " -0.01001874  1.14404785 -0.86363038  0.48285194  1.46530818  0.91464165\n",
      " -0.04844964  0.53022974  0.663406   -0.9035858  -0.74747061 -0.28507281\n",
      "  0.30727723 -0.09222686  0.26283866  0.99320985  0.76962232  0.61929311\n",
      "  2.4732952   1.13151441  0.39344522  0.78765972 -0.0234243   0.17001148\n",
      "  1.29836978 -0.53071164 -0.37632322 -1.37538872 -0.8104712   0.09890733\n",
      " -0.04104758  0.96411426  1.34651037 -0.03003724  2.15828615 -0.40597065\n",
      " -0.12188884  0.5319623  -1.19296861 -0.92366103 -1.10536997 -0.61273006\n",
      " -0.68174486  0.45003001 -0.4212797  -0.46411085  0.71400449  0.81269659\n",
      " -1.58861181  0.04631851  1.09793761  0.33538362  1.7815648  -0.33434664\n",
      "  0.31328805  1.21671096  1.26127005  0.27414652] 0.0\n"
     ]
    }
   ],
   "source": [
    "N = 400\n",
    "feats = 784\n",
    "D = (rng.randn(N, feats), rng.randint(size=N,low=0, high=2))\n",
    "training_steps = 10000\n",
    "rng = np.random\n",
    "x = T.matrix(\"x\")\n",
    "y = T.vector(\"y\")\n",
    "w = theano.shared(rng.randn(100), name=\"w\")\n",
    "b = theano.shared(0., name=\"b\")\n",
    "print \"Initial model:\"\n",
    "print w.get_value(), b.get_value()\n"
   ]
  },
  {
   "cell_type": "code",
   "execution_count": 276,
   "metadata": {
    "collapsed": false
   },
   "outputs": [],
   "source": [
    "x = T.matrix(\"x\")\n",
    "y = T.vector(\"y\")\n",
    "w = theano.shared(rng.randn(100), name=\"w\")\n",
    "b = theano.shared(0., name=\"b\")\n",
    "# Construct Theano expression graph\n",
    "p_1 = 1 / (1 + T.exp(-T.dot(x, w)-b)) # Probability that target = 1\n",
    "prediction = p_1 > 0.5 # The prediction thresholded\n",
    "xent = -y*T.log(p_1) - (1-y)*T.log(1-p_1)# Cross-entropy loss function\n",
    "cost = xent.mean() + 0.01*(w**2).sum() # The cost to minimize\n",
    "gw,gb = T.grad(cost, [w,b])"
   ]
  },
  {
   "cell_type": "code",
   "execution_count": 283,
   "metadata": {
    "collapsed": false
   },
   "outputs": [],
   "source": [
    "x = T.matrix(\"x\")\n",
    "y = T.vector(\"y\")\n",
    "w = theano.shared(rng.randn(100), name=\"w\")\n",
    "b = theano.shared(0., name=\"b\")\n",
    "p_1 = 1 / (1 + T.exp(-T.dot(x, w)-b))\n",
    "prediction = p_1 > 0.5\n",
    "xent = -y*T.log(p_1) - (1-y)*T.log(1-p_1)\n",
    "cost = xent.mean() + 0.01*(w**2).sum()\n",
    "gw,gb = T.grad(cost, [w,b])\n",
    "# Compile\n",
    "train = theano.function(\n",
    "inputs=[x,y],\n",
    "outputs=[prediction, xent],\n",
    "updates= OrderedDict({w:w-0.1*gw, b:b-0.1*gb}))\n",
    "predict = theano.function(inputs=[x], outputs=prediction)"
   ]
  },
  {
   "cell_type": "code",
   "execution_count": 285,
   "metadata": {
    "collapsed": false
   },
   "outputs": [
    {
     "ename": "ValueError",
     "evalue": "Shape mismatch: A.shape[1] != y.shape[0]\nApply node that caused the error: CGemv{inplace}(Alloc.0, TensorConstant{1.0}, x, w, TensorConstant{0.0})\nInputs types: [TensorType(float64, vector), TensorType(float64, scalar), TensorType(float64, matrix), TensorType(float64, vector), TensorType(float64, scalar)]\nInputs shapes: [(400,), (), (400, 784), (100,), ()]\nInputs strides: [(8,), (), (6272, 8), (8,), ()]\nInputs values: ['not shown', array(1.0), 'not shown', 'not shown', array(0.0)]\n\nHINT: Re-running with most Theano optimization disabled could give you a back-trace of when this node was created. This can be done with by setting the Theano flag 'optimizer=fast_compile'. If that does not work, Theano optimizations can be disabled with 'optimizer=None'.\nHINT: Use the Theano flag 'exception_verbosity=high' for a debugprint and storage map footprint of this apply node.",
     "output_type": "error",
     "traceback": [
      "\u001b[0;31m---------------------------------------------------------------------------\u001b[0m",
      "\u001b[0;31mValueError\u001b[0m                                Traceback (most recent call last)",
      "\u001b[0;32m<ipython-input-285-fc62e526b4d8>\u001b[0m in \u001b[0;36m<module>\u001b[0;34m()\u001b[0m\n\u001b[1;32m      1\u001b[0m \u001b[0;32mfor\u001b[0m \u001b[0mi\u001b[0m \u001b[0;32min\u001b[0m \u001b[0mrange\u001b[0m\u001b[0;34m(\u001b[0m\u001b[0mtraining_steps\u001b[0m\u001b[0;34m)\u001b[0m\u001b[0;34m:\u001b[0m\u001b[0;34m\u001b[0m\u001b[0m\n\u001b[0;32m----> 2\u001b[0;31m     \u001b[0mpred\u001b[0m\u001b[0;34m,\u001b[0m \u001b[0merr\u001b[0m \u001b[0;34m=\u001b[0m \u001b[0mtrain\u001b[0m\u001b[0;34m(\u001b[0m\u001b[0mD\u001b[0m\u001b[0;34m[\u001b[0m\u001b[0;36m0\u001b[0m\u001b[0;34m]\u001b[0m\u001b[0;34m,\u001b[0m \u001b[0mD\u001b[0m\u001b[0;34m[\u001b[0m\u001b[0;36m1\u001b[0m\u001b[0;34m]\u001b[0m\u001b[0;34m)\u001b[0m\u001b[0;34m\u001b[0m\u001b[0m\n\u001b[0m\u001b[1;32m      3\u001b[0m \u001b[0;32mprint\u001b[0m \u001b[0;34m\"Final model:\"\u001b[0m\u001b[0;34m\u001b[0m\u001b[0m\n\u001b[1;32m      4\u001b[0m \u001b[0;32mprint\u001b[0m \u001b[0mw\u001b[0m\u001b[0;34m.\u001b[0m\u001b[0mget_value\u001b[0m\u001b[0;34m(\u001b[0m\u001b[0;34m)\u001b[0m\u001b[0;34m,\u001b[0m \u001b[0mb\u001b[0m\u001b[0;34m.\u001b[0m\u001b[0mget_value\u001b[0m\u001b[0;34m(\u001b[0m\u001b[0;34m)\u001b[0m\u001b[0;34m\u001b[0m\u001b[0m\n\u001b[1;32m      5\u001b[0m \u001b[0;32mprint\u001b[0m \u001b[0;34m\"target values for D:\"\u001b[0m\u001b[0;34m,\u001b[0m \u001b[0mD\u001b[0m\u001b[0;34m[\u001b[0m\u001b[0;36m1\u001b[0m\u001b[0;34m]\u001b[0m\u001b[0;34m\u001b[0m\u001b[0m\n",
      "\u001b[0;32m/Users/tyler/anaconda/lib/python2.7/site-packages/theano/compile/function_module.pyc\u001b[0m in \u001b[0;36m__call__\u001b[0;34m(self, *args, **kwargs)\u001b[0m\n\u001b[1;32m    604\u001b[0m                         \u001b[0mself\u001b[0m\u001b[0;34m.\u001b[0m\u001b[0mfn\u001b[0m\u001b[0;34m.\u001b[0m\u001b[0mnodes\u001b[0m\u001b[0;34m[\u001b[0m\u001b[0mself\u001b[0m\u001b[0;34m.\u001b[0m\u001b[0mfn\u001b[0m\u001b[0;34m.\u001b[0m\u001b[0mposition_of_error\u001b[0m\u001b[0;34m]\u001b[0m\u001b[0;34m,\u001b[0m\u001b[0;34m\u001b[0m\u001b[0m\n\u001b[1;32m    605\u001b[0m                         \u001b[0mself\u001b[0m\u001b[0;34m.\u001b[0m\u001b[0mfn\u001b[0m\u001b[0;34m.\u001b[0m\u001b[0mthunks\u001b[0m\u001b[0;34m[\u001b[0m\u001b[0mself\u001b[0m\u001b[0;34m.\u001b[0m\u001b[0mfn\u001b[0m\u001b[0;34m.\u001b[0m\u001b[0mposition_of_error\u001b[0m\u001b[0;34m]\u001b[0m\u001b[0;34m,\u001b[0m\u001b[0;34m\u001b[0m\u001b[0m\n\u001b[0;32m--> 606\u001b[0;31m                         storage_map=self.fn.storage_map)\n\u001b[0m\u001b[1;32m    607\u001b[0m                 \u001b[0;32melse\u001b[0m\u001b[0;34m:\u001b[0m\u001b[0;34m\u001b[0m\u001b[0m\n\u001b[1;32m    608\u001b[0m                     \u001b[0;31m# For the c linker We don't have access from\u001b[0m\u001b[0;34m\u001b[0m\u001b[0;34m\u001b[0m\u001b[0m\n",
      "\u001b[0;32m/Users/tyler/anaconda/lib/python2.7/site-packages/theano/compile/function_module.pyc\u001b[0m in \u001b[0;36m__call__\u001b[0;34m(self, *args, **kwargs)\u001b[0m\n\u001b[1;32m    593\u001b[0m         \u001b[0mt0_fn\u001b[0m \u001b[0;34m=\u001b[0m \u001b[0mtime\u001b[0m\u001b[0;34m.\u001b[0m\u001b[0mtime\u001b[0m\u001b[0;34m(\u001b[0m\u001b[0;34m)\u001b[0m\u001b[0;34m\u001b[0m\u001b[0m\n\u001b[1;32m    594\u001b[0m         \u001b[0;32mtry\u001b[0m\u001b[0;34m:\u001b[0m\u001b[0;34m\u001b[0m\u001b[0m\n\u001b[0;32m--> 595\u001b[0;31m             \u001b[0moutputs\u001b[0m \u001b[0;34m=\u001b[0m \u001b[0mself\u001b[0m\u001b[0;34m.\u001b[0m\u001b[0mfn\u001b[0m\u001b[0;34m(\u001b[0m\u001b[0;34m)\u001b[0m\u001b[0;34m\u001b[0m\u001b[0m\n\u001b[0m\u001b[1;32m    596\u001b[0m         \u001b[0;32mexcept\u001b[0m \u001b[0mException\u001b[0m\u001b[0;34m:\u001b[0m\u001b[0;34m\u001b[0m\u001b[0m\n\u001b[1;32m    597\u001b[0m             \u001b[0;32mif\u001b[0m \u001b[0mhasattr\u001b[0m\u001b[0;34m(\u001b[0m\u001b[0mself\u001b[0m\u001b[0;34m.\u001b[0m\u001b[0mfn\u001b[0m\u001b[0;34m,\u001b[0m \u001b[0;34m'position_of_error'\u001b[0m\u001b[0;34m)\u001b[0m\u001b[0;34m:\u001b[0m\u001b[0;34m\u001b[0m\u001b[0m\n",
      "\u001b[0;31mValueError\u001b[0m: Shape mismatch: A.shape[1] != y.shape[0]\nApply node that caused the error: CGemv{inplace}(Alloc.0, TensorConstant{1.0}, x, w, TensorConstant{0.0})\nInputs types: [TensorType(float64, vector), TensorType(float64, scalar), TensorType(float64, matrix), TensorType(float64, vector), TensorType(float64, scalar)]\nInputs shapes: [(400,), (), (400, 784), (100,), ()]\nInputs strides: [(8,), (), (6272, 8), (8,), ()]\nInputs values: ['not shown', array(1.0), 'not shown', 'not shown', array(0.0)]\n\nHINT: Re-running with most Theano optimization disabled could give you a back-trace of when this node was created. This can be done with by setting the Theano flag 'optimizer=fast_compile'. If that does not work, Theano optimizations can be disabled with 'optimizer=None'.\nHINT: Use the Theano flag 'exception_verbosity=high' for a debugprint and storage map footprint of this apply node."
     ]
    }
   ],
   "source": [
    "for i in range(training_steps):\n",
    "    pred, err = train(D[0], D[1])\n",
    "print \"Final model:\"\n",
    "print w.get_value(), b.get_value()\n",
    "print \"target values for D:\", D[1]\n",
    "print \"prediction on D:\", predict(D[0])"
   ]
  },
  {
   "cell_type": "code",
   "execution_count": null,
   "metadata": {
    "collapsed": true
   },
   "outputs": [],
   "source": []
  }
 ],
 "metadata": {
  "kernelspec": {
   "display_name": "Python 2",
   "language": "python",
   "name": "python2"
  },
  "language_info": {
   "codemirror_mode": {
    "name": "ipython",
    "version": 2
   },
   "file_extension": ".py",
   "mimetype": "text/x-python",
   "name": "python",
   "nbconvert_exporter": "python",
   "pygments_lexer": "ipython2",
   "version": "2.7.10"
  }
 },
 "nbformat": 4,
 "nbformat_minor": 0
}
