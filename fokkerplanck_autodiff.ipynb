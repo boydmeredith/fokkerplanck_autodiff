{
 "cells": [
  {
   "cell_type": "markdown",
   "metadata": {},
   "source": [
    "#Import Libraries"
   ]
  },
  {
   "cell_type": "code",
   "execution_count": 11,
   "metadata": {
    "collapsed": false
   },
   "outputs": [],
   "source": [
    "import theano\n",
    "import theano.tensor as T\n",
    "from theano import pp\n",
    "import numpy as np\n",
    "import matplotlib as mpl\n",
    "import matplotlib.pyplot as plt\n",
    "from scipy.stats import norm\n",
    "from __future__ import division #this is important!!! otherwise, dividing will round\n",
    "from collections import OrderedDict\n",
    "import algopy as ap\n",
    "from algopy import UTPM\n",
    "%matplotlib inline"
   ]
  },
  {
   "cell_type": "markdown",
   "metadata": {},
   "source": [
    "#Translate Carlos's Code to Python"
   ]
  },
  {
   "cell_type": "code",
   "execution_count": 12,
   "metadata": {
    "collapsed": true
   },
   "outputs": [],
   "source": [
    "global epsilon"
   ]
  },
  {
   "cell_type": "code",
   "execution_count": 429,
   "metadata": {
    "collapsed": true
   },
   "outputs": [],
   "source": [
    "def make_bins(B,dx):\n",
    "    '''\n",
    "    inputs:\n",
    "    -------\n",
    "    - B is the value of the accumulator's sticky bound\n",
    "    - dx is the spacing between all bins, except the first and last \n",
    "    - binN is the number of bins with bin centers > 0\n",
    "    \n",
    "    outputs:\n",
    "    --------\n",
    "    - bin_centers array of bin_centers\n",
    "    - binN the number of bins with positive centers \n",
    "    '''\n",
    "    binN = np.ceil(B/dx)\n",
    "    \n",
    "    bins = np.arange(1,binN+1)*B\n",
    "    bins = dx*bins/B\n",
    "    bins[-1] = B + dx if bins[-1] == B else 2*B - bins[-2]\n",
    "    \n",
    "    bins = np.append(np.append(-bins[np.arange(-1,-1-len(bins),-1)], 0), bins)  \n",
    "    \n",
    "    return bins, binN\n",
    "    "
   ]
  },
  {
   "cell_type": "code",
   "execution_count": 430,
   "metadata": {
    "collapsed": false
   },
   "outputs": [],
   "source": [
    "def Fmatrix(pd,bin_centers,sigma_sbin,dt):\n",
    "    '''\n",
    "    inputs:\n",
    "    -------\n",
    "    - pd ditionary of parameters expected to contain the following keys\n",
    "        - sigma,\n",
    "        - lam\n",
    "        - c\n",
    "    - bins an array of bin centers created by make_bins\n",
    "    - sigma_sbin\n",
    "    outputs:\n",
    "    --------\n",
    "    - F square Markov matrix of transition probabilities\n",
    "    '''\n",
    "    sigma = pd['sigma']\n",
    "    lam   = pd['lam']\n",
    "    c     = pd['c']\n",
    "\n",
    "    F = np.zeros([len(bin_centers),len(bin_centers)]) \n",
    "    \n",
    "    # what about when best fit lambda is 0?\n",
    "    mus      = (bin_centers + pd['c']/lam)*np.exp(lam*dt) - pd['c']/lam \n",
    "    sbinsize = 0.1*np.sqrt(sigma_sbin**2 * dt)\n",
    "    swidth   = 4*np.sqrt((sigma_sbin/dx)**2*dt)\n",
    "    sbins    = np.arange(-swidth,swidth+epsilon, sbinsize)\n",
    "    ps       = np.exp(-sbins**2 / (2*sigma**2*dt)) / np.sqrt(2*sigma**2*dt)\n",
    "    ps       = ps/np.sum(ps);\n",
    "    \n",
    "    base_sbins = np.array(range(len(sbins)),dtype=float)*sbinsize\n",
    "    \n",
    "    for j in range(len(bin_centers)):\n",
    "        \n",
    "        sbins = base_sbins + mus[j] - swidth\n",
    "        \n",
    "        for k in range(len(sbins)):\n",
    "            if sbins[k] < (bin_centers[0] + bin_centers[1])/2 :\n",
    "                F[0,j] += ps[k]\n",
    "            elif (bin_centers[-1]+bin_centers[-2])/2 <= sbins[k] :\n",
    "                F[-1,j] += ps[k]\n",
    "            else:\n",
    "                bot = np.where(bin_centers <= sbins[k])[0][-1]\n",
    "                top = bot+1\n",
    "                F[bot,j] = F[bot,j] + ps[k]*(bin_centers[top] - sbins[k])/(bin_centers[top] - bin_centers[bot])\n",
    "                F[top,j] = F[top,j] + ps[k]*(sbins[k] - bin_centers[bot])/(bin_centers[top] - bin_centers[bot])\n",
    "\n",
    "    F[:,0] = 0; F[:,-1] = 0; F[0,0] = 1; F[-1,-1] = 1;\n",
    "    return F"
   ]
  },
  {
   "cell_type": "code",
   "execution_count": 431,
   "metadata": {
    "collapsed": false
   },
   "outputs": [],
   "source": [
    "def prob_right(pd,dt,dx,c):\n",
    "    '''\n",
    "    returns probability that the agent chose right\n",
    "    '''\n",
    "    c_trace = []; bin_centers = []; binN = []; a_trace = [];\n",
    "    Nsteps = len(c)\n",
    "    \n",
    "    sigma_sbin = pd['sigma_a']\n",
    "    sigma_a    = pd['sigma_a']*np.sqrt(dt)/dx\n",
    "    sigma_s    = pd['sigma_s']\n",
    "    sigma_i    = pd['sigma_i']\n",
    "    bias       = pd['bias']\n",
    "    B          = pd['B']\n",
    "    lam        = pd['lam']\n",
    "    phi        = pd['phi']\n",
    "    tau_phi    = pd['tau_phi']\n",
    "    lapse      = pd['lapse']\n",
    "   \n",
    "    bin_centers, binN = make_bins(B,dx)\n",
    "    \n",
    "    binBias = bias // dx + binN+1;\n",
    "    \n",
    "    a_trace = np.zeros([len(bin_centers), Nsteps]);  \n",
    "    c_trace = np.zeros(Nsteps)\n",
    "\n",
    "    a       = np.zeros(len(bin_centers)) \n",
    "    a[binN] = 1-2*lapse\n",
    "    a[0]    = lapse\n",
    "    a[-1]   = lapse\n",
    "    c_eff   = 1\n",
    "    \n",
    "    Fi = Fmatrix({'sigma':sigma_i/dx, 'lam':lam, 'c':0}, bin_centers, sigma_sbin, dt)\n",
    "    a = np.dot(Fi, a) \n",
    "    a_trace[:,0] = a\n",
    "    F0  = Fmatrix({'sigma':sigma_a, 'lam':lam, 'c':0}, bin_centers, sigma_sbin, dt)\n",
    "    \n",
    "    for step in range(int(Nsteps)-1):\n",
    "        c_eff = 1 + (c_eff - 1)*np.exp(-dt/tau_phi)\n",
    "        c_trace[step] = c_eff\n",
    "        if c[step]==0:\n",
    "            a = np.dot(F0,a) \n",
    "        else: \n",
    "            F = Fmatrix({'sigma':sigma_a, 'lam':lam, 'c':c_eff/dt},bin_centers, sigma_sbin, dt) \n",
    "            a = np.dot(F,a) \n",
    "            c_eff = c_eff*phi\n",
    "        a_trace[:,step+1] = a\n",
    "\n",
    "    pright = np.sum(a[binBias:]) + a[binBias-1]*0.5*(dx/2 - (bias - bin_centers[binBias-1]))/(dx/2)\n",
    "    return pright, a_trace, a, bin_centers"
   ]
  },
  {
   "cell_type": "code",
   "execution_count": 432,
   "metadata": {
    "collapsed": false
   },
   "outputs": [
    {
     "name": "stdout",
     "output_type": "stream",
     "text": [
      "0.912446186414\n",
      "2.44294128736\n"
     ]
    },
    {
     "data": {
      "image/png": "[encoded data removed]",
      "text/plain": [
       "<matplotlib.figure.Figure at 0x10d986f90>"
      ]
     },
     "metadata": {},
     "output_type": "display_data"
    }
   ],
   "source": [
    "epsilon = 10e-10; dx =.25; dt = .02; Nsteps = np.ceil(1/dt); \n",
    "pd = {'sigma':1, 'lam':-.5, 'sigma_a':1, 'sigma_s':0, 'sigma_i':0.5, \n",
    "      'bias':0, 'B': 4,'lapse':0.05, 'tau_phi':0.2, 'phi':0.3, 'c':1.0}\n",
    "sigma_sbin = pd['sigma_a']\n",
    "c = np.zeros(Nsteps); c[[np.ceil(0.08/dt), np.ceil(0.4/dt)]] = 1;\n",
    "pr, at, a, bin_centers = prob_right(pd,dt,dx,c)\n",
    "print pr\n",
    "plt.subplot(2,1,1)\n",
    "plt.imshow(at,interpolation=\"none\",origin=\"lower\")\n",
    "plt.subplot(2,1,2)\n",
    "plt.plot(bin_centers,a)\n",
    "mu=np.sum(bin_centers * a)\n",
    "sd = np.sum(bin_centers * bin_centers * a)\n",
    "sd = sd - mu ** 2\n",
    "print sd\n",
    "\n",
    "# with theano, it's not as straightforward to get a hessian, \n",
    "# perhaps it would be easier to work with algopy"
   ]
  },
  {
   "cell_type": "markdown",
   "metadata": {},
   "source": [
    "#Try to make this work with Theano"
   ]
  },
  {
   "cell_type": "code",
   "execution_count": 436,
   "metadata": {
    "collapsed": false
   },
   "outputs": [],
   "source": [
    "epsilon = 10e-10; dx =.25; dt = .02; \n",
    "\n",
    "dx = 4; dt = .5; Nsteps = np.ceil(1/dt)\n",
    "\n",
    "c = np.zeros(Nsteps); c[[np.ceil(0.08/dt), np.ceil(0.4/dt)]] = 1"
   ]
  },
  {
   "cell_type": "code",
   "execution_count": 437,
   "metadata": {
    "collapsed": false
   },
   "outputs": [
    {
     "data": {
      "text/plain": [
       "array([ 0.,  1.])"
      ]
     },
     "execution_count": 437,
     "metadata": {},
     "output_type": "execute_result"
    }
   ],
   "source": [
    "c"
   ]
  },
  {
   "cell_type": "code",
   "execution_count": 419,
   "metadata": {
    "collapsed": false
   },
   "outputs": [],
   "source": [
    "epsilon = 10e-10; dx =.25; dt = .02; Nsteps = np.ceil(1/dt)\n",
    "\n",
    "dx = 4; dt = 1; \n",
    "\n",
    "c = np.zeros(Nsteps); c[[np.ceil(0.08/dt), np.ceil(0.4/dt)]] = 1\n",
    "\n",
    "lam     = theano.shared(-0.5)\n",
    "phi     = theano.shared(0.3)\n",
    "tau_phi = theano.shared(0.2) \n",
    "bias    = theano.shared(0.0)\n",
    "lapse   = theano.shared(.05)\n",
    "B       = theano.shared(4.0) \n",
    "#sigma   = theano.shared(1.0)\n",
    "sigma_a = theano.shared(3.0) #sigma_a = theano.shared(1.0)\n",
    "sigma_s = theano.shared(0.0)\n",
    "sigma_i = theano.shared(2.0) #sigma_i = theano.shared(0.5)\n",
    "\n",
    "sigma_sbin = sigma_a\n",
    "\n",
    "def binN():\n",
    "    #return T.ceil(B.get_value()/dx)\n",
    "    return T.ceil(B/dx)\n",
    "\n",
    "def make_bins_T():\n",
    "    #bin_end = B + dx if binN() * dx == B.get_value() else 2*B - (binN() - 1) * dx\n",
    "    bin_end = B + dx if binN() * dx == B else 2*B - (binN() - 1) * dx\n",
    "    bins = T.concatenate([[-bin_end],T.arange(-dx,-B,-dx).sort(),[0],T.arange(dx,B,dx),[bin_end]])\n",
    "    return bins\n",
    "\n",
    "def Fmatrix_T(c,initial=False):\n",
    "    bin_centers = make_bins_T()\n",
    "    n_bins = T.shape(bin_centers)[0]\n",
    "    \n",
    "    F = T.zeros([n_bins,n_bins])\n",
    "    \n",
    "    mus = (bin_centers + c/lam)*T.exp(lam*dt) - c/lam\n",
    "    sbinsize = 0.1*T.sqrt(sigma_sbin**2 * dt)\n",
    "    swidth   = 4*T.sqrt((sigma_sbin/dx)**2*dt)\n",
    "    sbins    = T.arange(-swidth,swidth+epsilon, sbinsize)\n",
    "    \n",
    "    ps = T.exp(-sbins**2 / (2*sigma_a**2*dt)) / T.sqrt(2*sigma_a**2*dt) if not initial else T.exp(-sbins**2 / (2*sigma_i/dx**2*dt)) / T.sqrt(2*sigma_i/dx**2*dt) \n",
    "    ps = ps/T.sum(ps)\n",
    "    \n",
    "    n_sbins = T.shape(sbins)[0]\n",
    "    base_sbins = T.arange(0,n_sbins)*sbinsize\n",
    "\n",
    "    for j in range(1,n_bins-1): # don't both with first and last column since we're just going to set those to zero\n",
    "        print 'this j is', j+1, 'of', n_bins, '..........'\n",
    "        sbins = base_sbins + mus[j] - swidth\n",
    "        \n",
    "        for k in range(n_sbins):\n",
    "            if T.lt(sbins[k] , (bin_centers[0] + bin_centers[1])/2):\n",
    "                F = T.inc_subtensor(F[0,j], ps[k].eval())\n",
    "            elif T.le(bin_centers[-1] + bin_centers[-2])/2 , sbins[k]):\n",
    "                F = T.inc_subtensor(F[-1,j], ps[k].eval())\n",
    "            else:\n",
    "                bot = T.switch(T.le(bin_centers,sbins[k]),\n",
    "                               T.ones_like(bin_centers),T.zeros_like(bin_centers))[-1]\n",
    "                top = bot+1 \n",
    "                bot_inc = ps[k]*(bin_centers[top] - sbins[k])/(bin_centers[top] - bin_centers[bot])\n",
    "                top_inc = ps[k]*(sbins[k] - bin_centers[bot])/(bin_centers[top] - bin_centers[bot])                                                                    \n",
    "                F = T.inc_subtensor(F[bot,j], bot_inc)\n",
    "                F = T.inc_subtensor(F[top,j], top_inc)\n",
    "\n",
    "    \n",
    "    F = T.set_subtensor(F[:,0],0)\n",
    "    F = T.set_subtensor(F[:,-1],0)\n",
    "    F = T.set_subtensor(F[0,0],1)\n",
    "    F = T.set_subtensor(F[-1,-1],1)\n",
    "    return F\n",
    "   \n",
    "def prob_right_T():\n",
    "    c_trace = []; a_trace = []; Nsteps = len(c)\n",
    "    #sigma_a    = sigma_a*np.sqrt(dt)/dx\n",
    "    c = T.dvector('c')\n",
    "    bin_centers = make_bins_T()\n",
    "    \n",
    "    binBias = bias // dx + binN() + 1;\n",
    "\n",
    "    n_bins  = T.shape(bin_centers)[0]\n",
    "    a_trace = np.zeros([n_bins, Nsteps]);  \n",
    "    c_trace = np.zeros(Nsteps)\n",
    "\n",
    "    a       = T.zeros(n_bins) \n",
    "    a       = T.set_subtensor(a[int(binN().eval())], 1-2*lapse)\n",
    "    a       = T.set_subtensor(a[0], lapse)\n",
    "    a       = T.set_subtensor(a[-1], lapse)\n",
    "    c_eff   = 1\n",
    "    \n",
    "    Fi = Fmatrix_T(0,initial=True)\n",
    "    a = T.dot(Fi, a) \n",
    "    a_trace[:,0] = a.eval()\n",
    "    F0  = Fmatrix_T(0,initial=False)\n",
    "    \n",
    "    for step in range(int(Nsteps)-1):\n",
    "        c_eff = 1 + (c_eff - 1)*T.exp(-dt/tau_phi)\n",
    "        #c_trace[step] = c_eff.eval()\n",
    "        if c[step]==0:\n",
    "            a = T.dot(F0,a) \n",
    "        else: \n",
    "            F = Fmatrix_T(c_eff/dt, initial=False) \n",
    "            a = T.dot(F,a) \n",
    "            c_eff = c_eff*phi\n",
    "        #a_trace[:,step+1] = a.eval()\n",
    "    \n",
    "    #ix = int(binBias.eval())\n",
    "    #pright = T.sum(a[ix:]) + a[ix-1]*0.5*(dx/2 - (bias - bin_centers[ix-1]))/(dx/2)\n",
    "    #return pright, a_trace, a, bin_centers\n",
    "    \n",
    "    \n",
    "    return T.sum(a[binBias:]) + a[binBias-1]*.5*(dx/2 - (bias - bin_centers[ix-1]))/(dx/2)"
   ]
  },
  {
   "cell_type": "code",
   "execution_count": 365,
   "metadata": {
    "collapsed": false
   },
   "outputs": [
    {
     "data": {
      "text/plain": [
       "array([[ 1.        ,  0.00497356,  0.        ,  0.        ,  0.        ],\n",
       "       [ 0.        ,  0.54546971,  0.04629166,  0.        ,  0.        ],\n",
       "       [ 0.        ,  0.4467679 ,  0.68621746,  0.12889425,  0.        ],\n",
       "       [ 0.        ,  0.00278883,  0.26749088,  0.80665863,  0.        ],\n",
       "       [ 0.        ,  0.        ,  0.        ,  0.06444712,  1.        ]])"
      ]
     },
     "execution_count": 365,
     "metadata": {},
     "output_type": "execute_result"
    }
   ],
   "source": [
    "dx = 2; dt = .5; B=4\n",
    "\n",
    "bin_centers, _ = make_bins(B,dx)\n",
    "Fmatrix({'sigma':1.0, 'lam':-.5, 'c':1.0},bin_centers, 1.0, dt)"
   ]
  },
  {
   "cell_type": "code",
   "execution_count": null,
   "metadata": {
    "collapsed": true
   },
   "outputs": [],
   "source": [
    "#actually need c to be theano tensor variable as well\n",
    "c = T.vector('c')"
   ]
  },
  {
   "cell_type": "code",
   "execution_count": 420,
   "metadata": {
    "collapsed": false
   },
   "outputs": [
    {
     "name": "stdout",
     "output_type": "stream",
     "text": [
      "[3 3]\n",
      "this j is 2 of 3 ..........\n",
      "1 of 21 case 3\n",
      "2 of 21 case 3\n",
      "3 of 21 case 3\n",
      "4 of 21 case 3\n",
      "5 of 21 case 3\n",
      "6 of 21 case 3\n",
      "7 of 21 case 3\n",
      "8 of 21 case 3\n",
      "9 of 21 case 3\n",
      "10 of 21 case 3\n",
      "11 of 21 case 3\n",
      "12 of 21 case 3\n",
      "13 of 21 case 3\n",
      "14 of 21 case 3\n",
      "15 of 21 case 3\n",
      "16 of 21 case 3\n",
      "17 of 21 case 3\n",
      "18 of 21 case 3\n",
      "19 of 21 case 3\n",
      "20 of 21 case 3\n",
      "21 of 21 case 3\n",
      "[3 3]\n",
      "this j is 2 of 3 ..........\n",
      "1 of 21 case 3\n",
      "2 of 21 case 3\n",
      "3 of 21 case 3\n",
      "4 of 21 case 3\n",
      "5 of 21 case 3\n",
      "6 of 21 case 3\n",
      "7 of 21 case 3\n",
      "8 of 21 case 3\n",
      "9 of 21 case 3\n",
      "10 of 21 case 3\n",
      "11 of 21 case 3\n",
      "12 of 21 case 3\n",
      "13 of 21 case 3\n",
      "14 of 21 case 3\n",
      "15 of 21 case 3\n",
      "16 of 21 case 3\n",
      "17 of 21 case 3\n",
      "18 of 21 case 3\n",
      "19 of 21 case 3\n",
      "20 of 21 case 3\n",
      "21 of 21 case 3\n",
      "[3 3]\n",
      "this j is 2 of 3 ..........\n",
      "1 of 21 case 3\n",
      "2 of 21 case 3\n",
      "3 of 21 case 3\n",
      "4 of 21 case 3\n",
      "5 of 21 case 3\n",
      "6 of 21 case 3\n",
      "7 of 21 case 3\n",
      "8 of 21 case 3\n",
      "9 of 21 case 3\n",
      "10 of 21 case 3\n",
      "11 of 21 case 3\n",
      "12 of 21 case 3\n",
      "13 of 21 case 3\n",
      "14 of 21 case 3\n",
      "15 of 21 case 3\n",
      "16 of 21 case 3\n",
      "17 of 21 case 3\n",
      "18 of 21 case 3\n",
      "19 of 21 case 3\n",
      "20 of 21 case 3\n",
      "21 of 21 case 3\n"
     ]
    }
   ],
   "source": [
    "o = prob_right_T(c)"
   ]
  },
  {
   "cell_type": "code",
   "execution_count": 423,
   "metadata": {
    "collapsed": false
   },
   "outputs": [
    {
     "data": {
      "text/plain": [
       "<matplotlib.image.AxesImage at 0x175fa5bd0>"
      ]
     },
     "execution_count": 423,
     "metadata": {},
     "output_type": "execute_result"
    },
    {
     "data": {
      "image/png": "[encoded data removed]",
      "text/plain": [
       "<matplotlib.figure.Figure at 0x175f28290>"
      ]
     },
     "metadata": {},
     "output_type": "display_data"
    }
   ],
   "source": [
    "plt.imshow(o[1])"
   ]
  },
  {
   "cell_type": "code",
   "execution_count": 428,
   "metadata": {
    "collapsed": false
   },
   "outputs": [
    {
     "data": {
      "text/plain": [
       "array(0.5351346541780123)"
      ]
     },
     "execution_count": 428,
     "metadata": {},
     "output_type": "execute_result"
    }
   ],
   "source": [
    "o[0].eval()"
   ]
  },
  {
   "cell_type": "code",
   "execution_count": 368,
   "metadata": {
    "collapsed": false
   },
   "outputs": [],
   "source": [
    "b=make_bins_T()"
   ]
  },
  {
   "cell_type": "code",
   "execution_count": 375,
   "metadata": {
    "collapsed": false
   },
   "outputs": [
    {
     "data": {
      "text/plain": [
       "array(6.0)"
      ]
     },
     "execution_count": 375,
     "metadata": {},
     "output_type": "execute_result"
    }
   ],
   "source": [
    "T.sum(b[1:]).eval()"
   ]
  },
  {
   "cell_type": "code",
   "execution_count": 305,
   "metadata": {
    "collapsed": false,
    "scrolled": false
   },
   "outputs": [
    {
     "name": "stdout",
     "output_type": "stream",
     "text": [
      "[5 5]\n",
      "this j is 1 of 5 ..........\n",
      "0 of 41 case 3\n",
      "1 of 41 case 3\n",
      "2 of 41 case 3\n",
      "3 of 41 case 3\n",
      "4 of 41 case 3\n",
      "5 of 41 case 3\n",
      "6 of 41 case 3\n",
      "7 of 41 case 3\n",
      "8 of 41 case 3\n",
      "9 of 41 case 3\n",
      "10 of 41 case 3\n",
      "11 of 41 case 3\n",
      "12 of 41 case 3\n",
      "13 of 41 case 3\n",
      "14 of 41 case 3\n",
      "15 of 41 case 3\n",
      "16 of 41 case 3\n",
      "17 of 41 case 3\n",
      "18 of 41 case 3\n",
      "19 of 41 case 3\n",
      "20 of 41 case 3\n",
      "21 of 41 case 3\n",
      "22 of 41 case 3\n",
      "23 of 41 case 3\n",
      "24 of 41 case 3\n",
      "25 of 41 case 3\n",
      "26 of 41 case 3\n",
      "27 of 41 case 3\n",
      "28 of 41 case 3\n",
      "29 of 41 case 3\n",
      "30 of 41 case 3\n",
      "31 of 41 case 3\n",
      "32 of 41 case 3\n",
      "33 of 41 case 3\n",
      "34 of 41 case 3\n",
      "35 of 41 case 3\n",
      "36 of 41 case 3\n",
      "37 of 41 case 3\n",
      "38 of 41 case 3\n",
      "39 of 41 case 3\n",
      "40 of 41 case 3\n",
      "this j is 2 of 5 ..........\n",
      "0 of 41 case 3\n",
      "1 of 41 case 3\n",
      "2 of 41 case 3\n",
      "3 of 41 case 3\n",
      "4 of 41 case 3\n",
      "5 of 41 case 3\n",
      "6 of 41 case 3\n",
      "7 of 41 case 3\n",
      "8 of 41 case 3\n",
      "9 of 41 case 3\n",
      "10 of 41 case 3\n",
      "11 of 41 case 3\n",
      "12 of 41 case 3\n",
      "13 of 41 case 3\n",
      "14 of 41 case 3\n",
      "15 of 41 case 3\n",
      "16 of 41 case 3\n",
      "17 of 41 case 3\n",
      "18 of 41 case 3\n",
      "19 of 41 case 3\n",
      "20 of 41 case 3\n",
      "21 of 41 case 3\n",
      "22 of 41 case 3\n",
      "23 of 41 case 3\n",
      "24 of 41 case 3\n",
      "25 of 41 case 3\n",
      "26 of 41 case 3\n",
      "27 of 41 case 3\n",
      "28 of 41 case 3\n",
      "29 of 41 case 3\n",
      "30 of 41 case 3\n",
      "31 of 41 case 3\n",
      "32 of 41 case 3\n",
      "33 of 41 case 3\n",
      "34 of 41 case 3\n",
      "35 of 41 case 3\n",
      "36 of 41 case 3\n",
      "37 of 41 case 3\n",
      "38 of 41 case 3\n",
      "39 of 41 case 3\n",
      "40 of 41 case 3\n",
      "this j is 3 of 5 ..........\n",
      "0 of 41 case 3\n",
      "1 of 41 case 3\n",
      "2 of 41 case 3\n",
      "3 of 41 case 3\n",
      "4 of 41 case 3\n",
      "5 of 41 case 3\n",
      "6 of 41 case 3\n",
      "7 of 41 case 3\n",
      "8 of 41 case 3\n",
      "9 of 41 case 3\n",
      "10 of 41 case 3\n",
      "11 of 41 case 3\n",
      "12 of 41 case 3\n",
      "13 of 41 case 3\n",
      "14 of 41 case 3\n",
      "15 of 41 case 3\n",
      "16 of 41 case 3\n",
      "17 of 41 case 3\n",
      "18 of 41 case 3\n",
      "19 of 41 case 3\n",
      "20 of 41 case 3\n",
      "21 of 41 case 3\n",
      "22 of 41 case 3\n",
      "23 of 41 case 3\n",
      "24 of 41 case 3\n",
      "25 of 41 case 3\n",
      "26 of 41 case 3\n",
      "27 of 41 case 3\n",
      "28 of 41 case 3\n",
      "29 of 41 case 3\n",
      "30 of 41 case 3\n",
      "31 of 41 case 3\n",
      "32 of 41 case 3\n",
      "33 of 41 case 3\n",
      "34 of 41 case 3\n",
      "35 of 41 case 3\n",
      "36 of 41 case 3\n",
      "37 of 41 case 3\n",
      "38 of 41 case 3\n",
      "39 of 41 case 3\n",
      "40 of 41 case 3\n"
     ]
    }
   ],
   "source": [
    "F = Fmatrix_T(1)\n"
   ]
  },
  {
   "cell_type": "code",
   "execution_count": 365,
   "metadata": {
    "collapsed": false
   },
   "outputs": [
    {
     "data": {
      "text/plain": [
       "array([[ 1.        ,  0.00497356,  0.        ,  0.        ,  0.        ],\n",
       "       [ 0.        ,  0.54546971,  0.04629166,  0.        ,  0.        ],\n",
       "       [ 0.        ,  0.4467679 ,  0.68621746,  0.12889425,  0.        ],\n",
       "       [ 0.        ,  0.00278883,  0.26749088,  0.80665863,  0.        ],\n",
       "       [ 0.        ,  0.        ,  0.        ,  0.06444712,  1.        ]])"
      ]
     },
     "execution_count": 365,
     "metadata": {},
     "output_type": "execute_result"
    }
   ],
   "source": [
    "F.eval()"
   ]
  },
  {
   "cell_type": "markdown",
   "metadata": {},
   "source": [
    "#Try something simple with Theano"
   ]
  },
  {
   "cell_type": "raw",
   "metadata": {},
   "source": [
    "T.grad returns something a little complicated to look at"
   ]
  },
  {
   "cell_type": "code",
   "execution_count": 10,
   "metadata": {
    "collapsed": false
   },
   "outputs": [
    {
     "data": {
      "text/plain": [
       "'((fill((x ** TensorConstant{2}), TensorConstant{1.0}) * TensorConstant{2}) * (x ** (TensorConstant{2} - TensorConstant{1})))'"
      ]
     },
     "execution_count": 10,
     "metadata": {},
     "output_type": "execute_result"
    }
   ],
   "source": [
    "x = T.dscalar('x')\n",
    "y = x ** 2\n",
    "gy = T.grad(y,x)\n",
    "pp(gy)"
   ]
  },
  {
   "cell_type": "raw",
   "metadata": {},
   "source": [
    "but, the optimizer simplifies things!"
   ]
  },
  {
   "cell_type": "code",
   "execution_count": 26,
   "metadata": {
    "collapsed": false
   },
   "outputs": [
    {
     "data": {
      "text/plain": [
       "'(TensorConstant{2.0} * x)'"
      ]
     },
     "execution_count": 26,
     "metadata": {},
     "output_type": "execute_result"
    }
   ],
   "source": [
    "f = theano.function([x], gy)\n",
    "pp(f.maker.fgraph.outputs[0])"
   ]
  },
  {
   "cell_type": "code",
   "execution_count": 28,
   "metadata": {
    "collapsed": false
   },
   "outputs": [
    {
     "data": {
      "text/plain": [
       "[array(2.0), array(10.0), array(20.0), array(22.0)]"
      ]
     },
     "execution_count": 28,
     "metadata": {},
     "output_type": "execute_result"
    }
   ],
   "source": [
    "[f(a) for a in [1, 5, 10, 11]]"
   ]
  },
  {
   "cell_type": "markdown",
   "metadata": {},
   "source": [
    "## Okay, let's try something a bit more complicated"
   ]
  },
  {
   "cell_type": "code",
   "execution_count": 82,
   "metadata": {
    "collapsed": false
   },
   "outputs": [],
   "source": [
    "x = T.dscalar('x')\n",
    "s = (1 / (1 + T.exp(-x)))\n",
    "gs = T.grad(s, x)\n",
    "dlogistic = theano.function([x], gs)\n"
   ]
  },
  {
   "cell_type": "markdown",
   "metadata": {},
   "source": [
    "here's the function"
   ]
  },
  {
   "cell_type": "code",
   "execution_count": 52,
   "metadata": {
    "collapsed": false
   },
   "outputs": [
    {
     "data": {
      "text/plain": [
       "[<matplotlib.lines.Line2D at 0x1093e5c10>]"
      ]
     },
     "execution_count": 52,
     "metadata": {},
     "output_type": "execute_result"
    },
    {
     "data": {
      "image/png": "[encoded data removed]",
      "text/plain": [
       "<matplotlib.figure.Figure at 0x1091ea1d0>"
      ]
     },
     "metadata": {},
     "output_type": "display_data"
    }
   ],
   "source": [
    "x = np.arange(-10,10,.1)\n",
    "y = [1/(1+np.exp(-this_x)) for this_x in x]\n",
    "plt.plot(x,y)"
   ]
  },
  {
   "cell_type": "markdown",
   "metadata": {},
   "source": [
    "and here's its gradient"
   ]
  },
  {
   "cell_type": "code",
   "execution_count": 86,
   "metadata": {
    "collapsed": false
   },
   "outputs": [
    {
     "data": {
      "text/plain": [
       "[<matplotlib.lines.Line2D at 0x109b17b90>]"
      ]
     },
     "execution_count": 86,
     "metadata": {},
     "output_type": "execute_result"
    },
    {
     "data": {
      "image/png": "[encoded data removed]",
      "text/plain": [
       "<matplotlib.figure.Figure at 0x109d2ffd0>"
      ]
     },
     "metadata": {},
     "output_type": "display_data"
    }
   ],
   "source": [
    "x_vals = np.arange(-100,100)\n",
    "dsdx = [dlogistic(a).sum() for a in x_vals]\n",
    "plt.plot(x_vals, dsdx)"
   ]
  },
  {
   "cell_type": "markdown",
   "metadata": {},
   "source": [
    "## even more so?"
   ]
  },
  {
   "cell_type": "code",
   "execution_count": 196,
   "metadata": {
    "collapsed": false
   },
   "outputs": [],
   "source": [
    "x = T.dmatrix('x')\n",
    "s = T.sum(1 / (1 + T.exp(-x)))\n",
    "gs = T.grad(s, x)\n",
    "dlogistic = theano.function([x], gs)"
   ]
  },
  {
   "cell_type": "code",
   "execution_count": 211,
   "metadata": {
    "collapsed": false
   },
   "outputs": [
    {
     "data": {
      "text/plain": [
       "array([[  1.96611933e-01,   6.64805667e-03],\n",
       "       [  4.53958077e-05,   4.53958077e-05],\n",
       "       [  2.50000000e-01,   3.72007598e-44]])"
      ]
     },
     "execution_count": 211,
     "metadata": {},
     "output_type": "execute_result"
    }
   ],
   "source": [
    "dlogistic([[1,5], [-10, -10], [0,100]])"
   ]
  },
  {
   "cell_type": "code",
   "execution_count": 222,
   "metadata": {
    "collapsed": false
   },
   "outputs": [],
   "source": [
    "x0 = np.arange(100,-101,-1)\n",
    "x1 = np.arange(-100,101)\n",
    "x_vals = np.array([[a,b] for a in x0 for b in x1])\n",
    "dsdx = dlogistic(x_vals)"
   ]
  },
  {
   "cell_type": "markdown",
   "metadata": {},
   "source": [
    "derivative w.r.t x0"
   ]
  },
  {
   "cell_type": "code",
   "execution_count": 233,
   "metadata": {
    "collapsed": false
   },
   "outputs": [
    {
     "data": {
      "text/plain": [
       "[<matplotlib.lines.Line2D at 0x10bb48e50>]"
      ]
     },
     "execution_count": 233,
     "metadata": {},
     "output_type": "execute_result"
    },
    {
     "data": {
      "image/png": "[encoded data removed]",
      "text/plain": [
       "<matplotlib.figure.Figure at 0x10b056dd0>"
      ]
     },
     "metadata": {},
     "output_type": "display_data"
    }
   ],
   "source": [
    "plt.plot(x_vals[:,0],dsdx[:,0])"
   ]
  },
  {
   "cell_type": "markdown",
   "metadata": {},
   "source": [
    "derivative w.r.t x1"
   ]
  },
  {
   "cell_type": "code",
   "execution_count": 235,
   "metadata": {
    "collapsed": false
   },
   "outputs": [
    {
     "data": {
      "text/plain": [
       "[<matplotlib.lines.Line2D at 0x10b0c34d0>]"
      ]
     },
     "execution_count": 235,
     "metadata": {},
     "output_type": "execute_result"
    },
    {
     "data": {
      "image/png": "[encoded data removed]",
      "text/plain": [
       "<matplotlib.figure.Figure at 0x10bc4e150>"
      ]
     },
     "metadata": {},
     "output_type": "display_data"
    }
   ],
   "source": [
    "plt.plot(x_vals[:,1],dsdx[:,1])"
   ]
  },
  {
   "cell_type": "code",
   "execution_count": null,
   "metadata": {
    "collapsed": true
   },
   "outputs": [],
   "source": []
  }
 ],
 "metadata": {
  "kernelspec": {
   "display_name": "Python 2",
   "language": "python",
   "name": "python2"
  },
  "language_info": {
   "codemirror_mode": {
    "name": "ipython",
    "version": 2
   },
   "file_extension": ".py",
   "mimetype": "text/x-python",
   "name": "python",
   "nbconvert_exporter": "python",
   "pygments_lexer": "ipython2",
   "version": "2.7.10"
  }
 },
 "nbformat": 4,
 "nbformat_minor": 0
}
