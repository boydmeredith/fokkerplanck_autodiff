{
 "cells": [
  {
   "cell_type": "code",
   "execution_count": 1,
   "metadata": {
    "collapsed": false
   },
   "outputs": [
    {
     "name": "stderr",
     "output_type": "stream",
     "text": [
      "INFO: Precompiling module PyPlot...\n"
     ]
    }
   ],
   "source": [
    "import ForwardDiff\n",
    "import PyPlot\n",
    "using PyPlot"
   ]
  },
  {
   "cell_type": "code",
   "execution_count": 2,
   "metadata": {
    "collapsed": true
   },
   "outputs": [],
   "source": [
    "function make_bins(B, dx)\n",
    "    # B = params[1]\n",
    "    bins = collect(1.0:binN)*B\n",
    "    bins = dx*bins/B\n",
    "\n",
    "    if bins[end] == B\n",
    "        bins[end] = B + dx\n",
    "    else\n",
    "        bins[end] = 2*B - bins[end-1]\n",
    "    end\n",
    "\n",
    "    bins = [-bins[end:-1:1]; 0; bins]\n",
    "    return bins\n",
    "end;"
   ]
  },
  {
   "cell_type": "code",
   "execution_count": 4,
   "metadata": {
    "collapsed": false
   },
   "outputs": [
    {
     "data": {
      "text/plain": [
       "Fmatrix (generic function with 1 method)"
      ]
     },
     "execution_count": 4,
     "metadata": {},
     "output_type": "execute_result"
    }
   ],
   "source": [
    "function Fmatrix(params::Vector)\n",
    "    sigma = params[1];\n",
    "    lam   = params[2];\n",
    "    c     = params[3];\n",
    "\n",
    "    F = collect(1.0:length(bin_centers))*collect(1.0:length(bin_centers))';\n",
    "    F = 0.0*sigma*F; # Multiplying by that sigma is needed, for type casting reasons I do not understand...\n",
    "\n",
    "    mus      = (bin_centers + c/lam)*exp(lam*dt) - c/lam\n",
    "    sbinsize = 0.1*sqrt(sigma_sbin^2*dt)\n",
    "    swidth   = 4*sqrt((sigma_sbin/dx)^2*dt)\n",
    "    sbins    = collect(-swidth:sbinsize:swidth+epsilon)\n",
    "    ps       = exp(-sbins.^2/(2*sigma^2*dt)) / sqrt(2*sigma^2*dt)\n",
    "    ps       = ps/sum(ps);\n",
    "\n",
    "    base_sbins = sbins;\n",
    "\n",
    "    for j in 1:length(bin_centers)\n",
    "        # sbins = [mus[j] - swidth : sbinsize : mus[j] + swidth+epsilon]\n",
    "        sbins = collect(0:(length(base_sbins)-1))*sbinsize\n",
    "        sbins = sbins + mus[j]-swidth\n",
    "\n",
    "        for k in 1:length(sbins)\n",
    "            if sbins[k] < (bin_centers[1] + bin_centers[2])/2\n",
    "                F[1,j] = F[1,j] + ps[k]\n",
    "            elseif (bin_centers[end]+bin_centers[end-1])/2 <= sbins[k]\n",
    "                F[end,j] = F[end,j] + ps[k]\n",
    "            else\n",
    "                bot = find(bin_centers .<= sbins[k])[end]\n",
    "                top = bot+1\n",
    "                #display(bot)\n",
    "                #display(top)\n",
    "                F[bot,j] = F[bot,j] + ps[k]*(bin_centers[top] - sbins[k])/(bin_centers[top] - bin_centers[bot])\n",
    "                F[top,j] = F[top,j] + ps[k]*(sbins[k] - bin_centers[bot])/(bin_centers[top] - bin_centers[bot])\n",
    "            end\n",
    "        end\n",
    "    end\n",
    "    F[:,1] = 0; F[:,end] = 0; F[1,1] = 1; F[end,end] = 1;\n",
    "    return F\n",
    "end"
   ]
  },
  {
   "cell_type": "code",
   "execution_count": 5,
   "metadata": {
    "collapsed": false
   },
   "outputs": [
    {
     "ename": "LoadError",
     "evalue": "LoadError: UndefVarError: probRight not defined\nwhile loading In[5], in expression starting on line 1",
     "output_type": "error",
     "traceback": [
      "LoadError: UndefVarError: probRight not defined\nwhile loading In[5], in expression starting on line 1",
      ""
     ]
    }
   ],
   "source": [
    "probRight(params)"
   ]
  },
  {
   "cell_type": "code",
   "execution_count": 6,
   "metadata": {
    "collapsed": false
   },
   "outputs": [
    {
     "data": {
      "text/plain": [
       "probRight (generic function with 1 method)"
      ]
     },
     "execution_count": 6,
     "metadata": {},
     "output_type": "execute_result"
    }
   ],
   "source": [
    "function probRight(params::Vector)\n",
    "    sigma_a = params[1]*sqrt(dt)/dx; sigma_s = params[2]; sigma_i = params[3]; \n",
    "    lambda = params[4]; B = params[5]; bias = params[6]; \n",
    "    phi = params[7]; tau_phi = params[8]; lapse = params[9]\n",
    "    global a, c, a_trace, c_trace\n",
    "    global bin_centers  # remember, lexical scoping! When Fmatrix was defined, the relevant\n",
    "    # bin_centers was the global one, so making a local one here won't affect Fmatrix. \n",
    "    global binN\n",
    "    \n",
    "    bin_centers = make_bins(B, dx)\n",
    "    a = zeros(length(bin_centers),1)*sigma_a*0.0; # That weirdo inexact error thing\n",
    "    a[binN+1] = 1-2*lapse; a[1] = lapse; a[end] = lapse;\n",
    "    c_eff   = 1;\n",
    "\n",
    "    Fi = Fmatrix(collect([sigma_i/dx; lambda; 0.0])); a = Fi*a;\n",
    "\n",
    "    F0 = Fmatrix(collect([sigma_a; lambda; 0.0]))\n",
    "    for i in 1:(Nsteps-1) \n",
    "        c_eff = 1 + (c_eff - 1)*exp(-dt/tau_phi)\n",
    "        if c[i]==0\n",
    "            a = F0*a\n",
    "        else\n",
    "            F = Fmatrix(collect([sigma_a; lambda; c_eff/dt]))\n",
    "            a = F*a\n",
    "            c_eff = c_eff*phi\n",
    "        end\n",
    "    end;\n",
    "    pright = sum(a[binBias+1:end]) + \n",
    "        a[binBias]*0.5*(dx/2 - (bias - bin_centers[binBias]))/(dx/2)\n",
    "    return pright\n",
    "end"
   ]
  },
  {
   "cell_type": "code",
   "execution_count": 25,
   "metadata": {
    "collapsed": false
   },
   "outputs": [
    {
     "data": {
      "text/plain": [
       "16"
      ]
     },
     "execution_count": 25,
     "metadata": {},
     "output_type": "execute_result"
    }
   ],
   "source": [
    "binN"
   ]
  },
  {
   "cell_type": "code",
   "execution_count": 7,
   "metadata": {
    "collapsed": false
   },
   "outputs": [
    {
     "data": {
      "text/plain": [
       "probRight_noderiv (generic function with 1 method)"
      ]
     },
     "execution_count": 7,
     "metadata": {},
     "output_type": "execute_result"
    }
   ],
   "source": [
    "\"\"\"\n",
    "function probRight_noderiv(params::Vector)\n",
    "\n",
    "Copy of probRight, but keeps some traces and does NOT play nice with ForwardDiff\n",
    "\n",
    "Uses globals \n",
    "    Nsteps number fo timesteps to simulate\n",
    "    a      (column vector representing distribution of values of accumulator a)\n",
    "    c      (vector, Nsteps long, with 1s whereever there were clicks, 0s otherwise)\n",
    "    bin_centers   (column vector of bin centers for a)\n",
    "    binN   (the bin_centers bin centered on representing a=0)\n",
    "\n",
    "    a_trace (length(bin_centers)-by-Nsteps), a trace of the distribution of a as a function of time\n",
    "    c_trace (row vector Nsteps long, effective value of c as a function of time after adaptation)\n",
    "\n",
    "Takes params\n",
    "    sigma_a = params[1]*sqrt(dt)/dx; sigma_s = params[2]; sigma_i = params[3]; \n",
    "    lambda = params[4]; B = params[5]; bias = params[6]; \n",
    "    phi = params[7]; tau_phi = params[8]; lapse = params[9]\n",
    "\n",
    "Returns the probability that the agent chose Right. \n",
    "\"\"\"\n",
    "\n",
    "function probRight_noderiv(params::Vector)\n",
    "    sigma_a = params[1]*sqrt(dt)/dx; sigma_s = params[2]; sigma_i = params[3]; \n",
    "    lambda = params[4]; B = params[5]; bias = params[6]; \n",
    "    phi = params[7]; tau_phi = params[8]; lapse = params[9]\n",
    "    global a, c, a_trace, c_trace\n",
    "    global bin_centers  # remember, lexical scoping! When Fmatrix was defined, the relevant\n",
    "    # bin_centers was the global one, so making a local one here won't affect Fmatrix. \n",
    "    global binN\n",
    "    \n",
    "    bin_centers = make_bins(B, dx)\n",
    "    a = zeros(length(bin_centers),1)*sigma_a*0.0; # That weirdo inexact error thing\n",
    "    a[binN+1] = 1-2*lapse; a[1] = lapse; a[end] = lapse;\n",
    "    c_eff   = 1;\n",
    "\n",
    "    Fi = Fmatrix(collect([sigma_i/dx; lambda; 0.0])); a = Fi*a;\n",
    "    a_trace[:,1] = a;\n",
    "\n",
    "    F0 = Fmatrix(collect([sigma_a; lambda; 0.0]))\n",
    "    for i in 1:(Nsteps-1) \n",
    "        c_eff = 1 + (c_eff - 1)*exp(-dt/tau_phi)\n",
    "        c_trace[i] = c_eff\n",
    "        if c[i]==0\n",
    "            a = F0*a\n",
    "        else\n",
    "            F = Fmatrix(collect([sigma_a; lambda; c_eff/dt]))\n",
    "            a = F*a\n",
    "            c_eff = c_eff*phi\n",
    "        end\n",
    "        a_trace[:,i+1] = a\n",
    "    end;\n",
    "    pright = sum(a[binBias+1:end]) + \n",
    "        a[binBias]*0.5*(dx/2 - (bias - bin_centers[binBias]))/(dx/2)\n",
    "    return pright\n",
    "end"
   ]
  },
  {
   "cell_type": "code",
   "execution_count": 8,
   "metadata": {
    "collapsed": false
   },
   "outputs": [
    {
     "data": {
      "text/plain": [
       "0.9110432813785019"
      ]
     },
     "metadata": {},
     "output_type": "display_data"
    },
    {
     "data": {
      "text/plain": [
       "9x9 Array{Float64,2}:\n",
       " -0.0136179    0.0  -0.000155463   0.0408979    …  -0.0887009    0.14125    \n",
       "  0.0          0.0   0.0           0.0              0.0          0.0        \n",
       " -0.000155463  0.0  -0.0305793    -0.00733856      -0.0200206    0.0340029  \n",
       "  0.0408979    0.0  -0.00733856   -0.0489462        0.0697856   -0.102224   \n",
       " -6.04223e-9   0.0  -1.76213e-9    6.64557e-10      4.23679e-9   9.56521e-10\n",
       " -0.100419     0.0  -0.024284      0.150828     …  -0.213121     0.242308   \n",
       "  0.0158394    0.0   0.00357511   -0.0124617        0.130868    -0.0363523  \n",
       " -0.0887009    0.0  -0.0200206     0.0697856        0.183216     0.203573   \n",
       "  0.14125      0.0   0.0340029    -0.102224         0.203573     0.0        "
      ]
     },
     "metadata": {},
     "output_type": "display_data"
    },
    {
     "data": {
      "text/plain": [
       "0.9110432813785019"
      ]
     },
     "metadata": {},
     "output_type": "display_data"
    },
    {
     "data": {
      "text/plain": [
       "2.4399131878232865"
      ]
     },
     "metadata": {},
     "output_type": "display_data"
    },
    {
     "data": {
      "image/png": "[encoded data removed]",
      "text/plain": [
       "PyPlot.Figure(PyObject <matplotlib.figure.Figure object at 0x31d266590>)"
      ]
     },
     "metadata": {},
     "output_type": "display_data"
    },
    {
     "data": {
      "image/png": "[encoded data removed]",
      "text/plain": [
       "PyPlot.Figure(PyObject <matplotlib.figure.Figure object at 0x31d36aa50>)"
      ]
     },
     "metadata": {},
     "output_type": "display_data"
    }
   ],
   "source": [
    "epsilon = 10.0^(-10); dx = 0.25; dt = 0.02; Nsteps = Int(ceil(1.0/dt))\n",
    "\n",
    "# ------  sigma_i is now in proper accumulator units, but sigma_a needs to be converted\n",
    "#         to reasonable units; and sigma_s has not been implemented yet.\n",
    "#                Currently debugging the sigma_s units\n",
    "# --------------------------------------------------------------------------------------\n",
    "sigma_a = 1; sigma_s = 0; sigma_i = 0.5; \n",
    "sigma_sbin = sigma_a;  # remember we need this copy for Fmatrix\n",
    "lam = -0.5; B = 4; bias = 0; \n",
    "phi = 0.3; tau_phi = 0.2; lapse = 0.05;\n",
    "params = [sigma_a, sigma_s, sigma_i, lam, B, bias, phi, tau_phi, lapse]   \n",
    "# sigma_a, sigma_i, sigma_s;  phi, tau_phi;  lapse, bias\n",
    "\n",
    "binN = Int(ceil(B/dx))  # ForwardDiff doesn't know how to deal with ceil(), \n",
    "bin_centers = make_bins(B, dx)\n",
    "binBias = Int(floor(bias/dx)) + binN+1  # again, ForwardDiff can't deal with floor()\n",
    "a = zeros(length(bin_centers),1); a[binN+1] = 1\n",
    "c = zeros(1, Nsteps); c[[Int(ceil(0.08/dt)), Int(ceil(0.4/dt))]] = 1;\n",
    "a_trace = zeros(length(bin_centers), Nsteps); c_trace = zeros(1, Nsteps)\n",
    "\n",
    "display(probRight(params))\n",
    "display(ForwardDiff.hessian(probRight, params))\n",
    "display(probRight_noderiv(params))\n",
    "\n",
    "figure(1)\n",
    "imshow(a_trace[:,2:end], interpolation=\"none\", origin=\"lower\")# , extent=(0, (Nsteps-1), -B, B))\n",
    "figure(2)\n",
    "plot(bin_centers, a)\n",
    "mu = sum(bin_centers.*a) \n",
    "sd = sum(bin_centers.*bin_centers.*a)\n",
    "sd = sd - mu.^2\n",
    "display(sd)\n",
    "# display(std(a))  Make sure to measure that <a.^2> is roughly the same for dx=0.25 and dx=1"
   ]
  },
  {
   "cell_type": "code",
   "execution_count": null,
   "metadata": {
    "collapsed": true
   },
   "outputs": [],
   "source": []
  }
 ],
 "metadata": {
  "kernelspec": {
   "display_name": "Julia 0.4.3",
   "language": "julia",
   "name": "julia-0.4"
  },
  "language_info": {
   "file_extension": ".jl",
   "mimetype": "application/julia",
   "name": "julia",
   "version": "0.4.3"
  }
 },
 "nbformat": 4,
 "nbformat_minor": 0
}
